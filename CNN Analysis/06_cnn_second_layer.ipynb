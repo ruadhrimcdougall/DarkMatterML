{
 "cells": [
  {
   "cell_type": "code",
   "execution_count": 31,
   "metadata": {},
   "outputs": [],
   "source": [
    "# script libraries\n",
    "import data\n",
    "# data handling\n",
    "import pandas as pd\n",
    "import numpy as np\n",
    "# machine learning\n",
    "import tensorflow as tf\n",
    "from tensorflow import keras\n",
    "# from tensorflow.keras.layers import Conv1D, MaxPooling1D, Flatten, Dense, Dropout, Masking, BatchNormalization\n",
    "from sklearn.model_selection import train_test_split, StratifiedKFold\n",
    "from sklearn.preprocessing import MinMaxScaler\n",
    "from sklearn.metrics import classification_report, roc_auc_score, accuracy_score, precision_score, recall_score, f1_score\n",
    "# from tensorflow.keras.models import Model\n",
    "# plotting\n",
    "import matplotlib.pyplot as plt\n",
    "import seaborn as sns\n",
    "from hist import Hist\n",
    "import hist\n",
    "from tqdm import tqdm"
   ]
  },
  {
   "cell_type": "markdown",
   "metadata": {},
   "source": [
    "## Setup Code"
   ]
  },
  {
   "cell_type": "code",
   "execution_count": 32,
   "metadata": {},
   "outputs": [],
   "source": [
    "# load in padded dataset\n",
    "chonky_padded_waveforms = pd.read_parquet('padded_waveforms.parquet')"
   ]
  },
  {
   "cell_type": "code",
   "execution_count": 33,
   "metadata": {},
   "outputs": [],
   "source": [
    "# us to timesteps\n",
    "us2timesteps = 100"
   ]
  },
  {
   "cell_type": "code",
   "execution_count": 34,
   "metadata": {},
   "outputs": [
    {
     "name": "stdout",
     "output_type": "stream",
     "text": [
      "0.0\n",
      "1.0\n",
      "(7782, 3028)\n",
      "(7782, 1)\n",
      "3028\n"
     ]
    }
   ],
   "source": [
    "# finalising the data arrays\n",
    "padded_array = chonky_padded_waveforms['chonkers'].to_numpy()\n",
    "x_data = np.stack(padded_array, axis=0)\n",
    "# divide by max phd\n",
    "max_phd = x_data.max()\n",
    "x_data = x_data / max_phd\n",
    "# set all values less than zero (probs due to noise) to zero. I think this is the correct way to do this?\n",
    "x_data[x_data < 0] = 0\n",
    "# waveform intensity range should now be between zero and 1.\n",
    "print(x_data.min())\n",
    "print(x_data.max())\n",
    "print(x_data.shape)\n",
    "y_data = chonky_padded_waveforms['label'].to_numpy().reshape((-1,1))\n",
    "print(y_data.shape)\n",
    "input_length = x_data.shape[-1]\n",
    "print(input_length)"
   ]
  },
  {
   "cell_type": "code",
   "execution_count": 35,
   "metadata": {},
   "outputs": [
    {
     "name": "stdout",
     "output_type": "stream",
     "text": [
      "(5836, 3028)\n",
      "(5836, 1)\n",
      "[[0. 0. 0. ... 0. 0. 0.]\n",
      " [0. 0. 0. ... 0. 0. 0.]\n",
      " [0. 0. 0. ... 0. 0. 0.]\n",
      " ...\n",
      " [0. 0. 0. ... 0. 0. 0.]\n",
      " [0. 0. 0. ... 0. 0. 0.]\n",
      " [0. 0. 0. ... 0. 0. 0.]]\n",
      "[[2]\n",
      " [2]\n",
      " [2]\n",
      " ...\n",
      " [1]\n",
      " [1]\n",
      " [1]]\n",
      "(5836, 3028, 1)\n",
      "(5836,)\n"
     ]
    }
   ],
   "source": [
    "# get training and testing sets\n",
    "runID = chonky_padded_waveforms['runID']\n",
    "eventID = chonky_padded_waveforms['eventID']\n",
    "W_array = chonky_padded_waveforms['weights_no_gas'].to_numpy()\n",
    "X_train, X_test, \\\n",
    "y_train, y_test, \\\n",
    "W_train, W_test, \\\n",
    "runID_train, runID_test, \\\n",
    "eventID_train, eventID_test = \\\n",
    "train_test_split(x_data, y_data, W_array, runID, eventID, random_state=0)\n",
    "print(X_train.shape)\n",
    "print(y_train.shape)\n",
    "print(X_train)\n",
    "print(y_train)\n",
    "X_train_reshaped = np.expand_dims(X_train, axis=-1)\n",
    "print(X_train_reshaped.shape)\n",
    "\n",
    "print(W_train.shape)"
   ]
  },
  {
   "cell_type": "code",
   "execution_count": 36,
   "metadata": {},
   "outputs": [],
   "source": [
    "# function to make a cnn\n",
    "\n",
    "def one_layer_cnn_test(filter_size, num_filters=10, train_iters=20):\n",
    "    CNN_model = keras.Sequential([\n",
    "        keras.layers.Conv1D(filters=num_filters,kernel_size=filter_size,activation='relu', input_shape=(input_length, 1)),\n",
    "        keras.layers.Flatten(),\n",
    "        keras.layers.Dense(3, activation='softmax')\n",
    "    ])\n",
    "    CNN_model.compile(optimizer=tf.keras.optimizers.legacy.Adam(),\n",
    "                      loss='sparse_categorical_crossentropy',#'binary_crossentropy',\n",
    "                      metrics=['accuracy'],\n",
    "                      weighted_metrics=['accuracy'])\n",
    "    CNN_model.fit(X_train,y_train,epochs=train_iters, validation_split=0.2, shuffle=True, sample_weight=W_train, verbose=0)\n",
    "    test_loss, test_acc, test_weight_acc = CNN_model.evaluate(X_test,y_test, sample_weight=W_test)\n",
    "    return test_loss, test_acc, test_weight_acc\n",
    "\n",
    "def two_layer_cnn_test(filter_size, num_filters=10, train_iters=20):\n",
    "    CNN_model = keras.Sequential([\n",
    "        # first layer from previous testing\n",
    "        keras.layers.Conv1D(filters=6,kernel_size=900,activation='relu', input_shape=(input_length, 1)),\n",
    "        # second layer for experimentation\n",
    "        keras.layers.Conv1D(filters=num_filters,kernel_size=filter_size,activation='relu'),\n",
    "        keras.layers.Flatten(),\n",
    "        keras.layers.Dense(3, activation='softmax')\n",
    "    ])\n",
    "    callback = keras.callbacks.EarlyStopping(monitor='val_loss',\n",
    "                                             patience=3)\n",
    "    CNN_model.compile(optimizer=tf.keras.optimizers.legacy.Adam(learning_rate=0.0002),\n",
    "                      loss='sparse_categorical_crossentropy',#'binary_crossentropy',\n",
    "                      metrics=['accuracy'],\n",
    "                      weighted_metrics=['accuracy'])\n",
    "    CNN_model.fit(X_train,y_train,epochs=train_iters, validation_split=0.2, shuffle=True, sample_weight=W_train, verbose=0, callbacks=[callback])\n",
    "    test_loss, test_acc, test_weight_acc = CNN_model.evaluate(X_test,y_test, sample_weight=W_test)\n",
    "    return test_loss, test_acc, test_weight_acc\n",
    "\n",
    "def two_layer_optimising_first_cnn_test(filter_size, num_filters=10, train_iters=25):\n",
    "    CNN_model = keras.Sequential([\n",
    "        # first layer from previous testing\n",
    "        keras.layers.Conv1D(filters=num_filters,kernel_size=filter_size,activation='relu', input_shape=(input_length, 1)),\n",
    "        # second layer for experimentation\n",
    "        keras.layers.Conv1D(filters=6,kernel_size=900,activation='relu'),\n",
    "        keras.layers.Flatten(),\n",
    "        keras.layers.Dense(3, activation='softmax')\n",
    "    ])\n",
    "    callback = keras.callbacks.EarlyStopping(monitor='val_loss',\n",
    "                                             patience=3)\n",
    "    CNN_model.compile(optimizer=tf.keras.optimizers.legacy.Adam(learning_rate=0.0001),\n",
    "                      loss='sparse_categorical_crossentropy',#'binary_crossentropy',\n",
    "                      metrics=['accuracy'],\n",
    "                      weighted_metrics=['accuracy'])\n",
    "    CNN_model.fit(X_train,y_train,epochs=train_iters, validation_split=0.2, shuffle=True, sample_weight=W_train, verbose=0, callbacks=[callback])\n",
    "    test_loss, test_acc, test_weight_acc = CNN_model.evaluate(X_test,y_test, sample_weight=W_test)\n",
    "    return test_loss, test_acc, test_weight_acc"
   ]
  },
  {
   "cell_type": "code",
   "execution_count": 45,
   "metadata": {},
   "outputs": [
    {
     "name": "stdout",
     "output_type": "stream",
     "text": [
      "[1.000e+00 1.000e+00 2.000e+00 2.000e+00 3.000e+00 4.000e+00 5.000e+00\n",
      " 6.000e+00 8.000e+00 1.100e+01 1.400e+01 1.800e+01 2.300e+01 3.000e+01\n",
      " 3.900e+01 5.100e+01 6.600e+01 8.600e+01 1.120e+02 1.450e+02 1.890e+02\n",
      " 2.450e+02 3.190e+02 4.140e+02 5.380e+02 7.000e+02 9.090e+02 1.181e+03\n",
      " 1.535e+03 1.995e+03]\n",
      "\n",
      "[1.000e+00 2.000e+00 3.000e+00 4.000e+00 5.000e+00 6.000e+00 8.000e+00\n",
      " 1.100e+01 1.400e+01 1.800e+01 2.300e+01 3.000e+01 3.900e+01 5.100e+01\n",
      " 6.600e+01 8.600e+01 1.120e+02 1.450e+02 1.890e+02 2.450e+02 3.190e+02\n",
      " 4.140e+02 5.380e+02 7.000e+02 9.090e+02 1.181e+03 1.535e+03 1.995e+03]\n",
      "Number of Filters - 10\n"
     ]
    },
    {
     "name": "stderr",
     "output_type": "stream",
     "text": [
      "  0%|          | 0/28 [00:00<?, ?it/s]"
     ]
    },
    {
     "name": "stdout",
     "output_type": "stream",
     "text": [
      "61/61 [==============================] - 1s 18ms/step - loss: 0.0140 - accuracy: 0.8438 - weighted_accuracy: 0.8917\n"
     ]
    },
    {
     "name": "stderr",
     "output_type": "stream",
     "text": [
      "  4%|▎         | 1/28 [01:24<37:55, 84.28s/it]"
     ]
    },
    {
     "name": "stdout",
     "output_type": "stream",
     "text": [
      "61/61 [==============================] - 1s 19ms/step - loss: 0.0147 - accuracy: 0.8772 - weighted_accuracy: 0.8818\n"
     ]
    },
    {
     "name": "stderr",
     "output_type": "stream",
     "text": [
      "  7%|▋         | 2/28 [02:43<35:20, 81.54s/it]"
     ]
    },
    {
     "name": "stdout",
     "output_type": "stream",
     "text": [
      "61/61 [==============================] - 1s 18ms/step - loss: 0.0127 - accuracy: 0.8571 - weighted_accuracy: 0.8981\n"
     ]
    },
    {
     "name": "stderr",
     "output_type": "stream",
     "text": [
      " 11%|█         | 3/28 [04:03<33:34, 80.57s/it]"
     ]
    },
    {
     "name": "stdout",
     "output_type": "stream",
     "text": [
      "61/61 [==============================] - 1s 17ms/step - loss: 0.0135 - accuracy: 0.8561 - weighted_accuracy: 0.8872\n"
     ]
    },
    {
     "name": "stderr",
     "output_type": "stream",
     "text": [
      " 14%|█▍        | 4/28 [05:22<31:57, 79.89s/it]"
     ]
    },
    {
     "name": "stdout",
     "output_type": "stream",
     "text": [
      "61/61 [==============================] - 1s 18ms/step - loss: 0.0130 - accuracy: 0.8577 - weighted_accuracy: 0.8958\n"
     ]
    },
    {
     "name": "stderr",
     "output_type": "stream",
     "text": [
      " 18%|█▊        | 5/28 [06:43<30:45, 80.25s/it]"
     ]
    },
    {
     "name": "stdout",
     "output_type": "stream",
     "text": [
      "61/61 [==============================] - 1s 23ms/step - loss: 0.0137 - accuracy: 0.8772 - weighted_accuracy: 0.8827\n"
     ]
    },
    {
     "name": "stderr",
     "output_type": "stream",
     "text": [
      " 21%|██▏       | 6/28 [08:02<29:21, 80.08s/it]"
     ]
    },
    {
     "name": "stdout",
     "output_type": "stream",
     "text": [
      "61/61 [==============================] - 1s 20ms/step - loss: 0.0146 - accuracy: 0.8582 - weighted_accuracy: 0.8882\n"
     ]
    },
    {
     "name": "stderr",
     "output_type": "stream",
     "text": [
      " 25%|██▌       | 7/28 [09:21<27:50, 79.57s/it]"
     ]
    },
    {
     "name": "stdout",
     "output_type": "stream",
     "text": [
      "61/61 [==============================] - 1s 20ms/step - loss: 0.0142 - accuracy: 0.8828 - weighted_accuracy: 0.8888\n"
     ]
    },
    {
     "name": "stderr",
     "output_type": "stream",
     "text": [
      " 29%|██▊       | 8/28 [10:39<26:22, 79.13s/it]"
     ]
    },
    {
     "name": "stdout",
     "output_type": "stream",
     "text": [
      "61/61 [==============================] - 1s 19ms/step - loss: 0.0155 - accuracy: 0.8505 - weighted_accuracy: 0.8942\n"
     ]
    },
    {
     "name": "stderr",
     "output_type": "stream",
     "text": [
      " 32%|███▏      | 9/28 [11:57<24:58, 78.86s/it]"
     ]
    },
    {
     "name": "stdout",
     "output_type": "stream",
     "text": [
      "61/61 [==============================] - 1s 19ms/step - loss: 0.0149 - accuracy: 0.8659 - weighted_accuracy: 0.8715\n"
     ]
    },
    {
     "name": "stderr",
     "output_type": "stream",
     "text": [
      " 36%|███▌      | 10/28 [13:15<23:33, 78.53s/it]"
     ]
    },
    {
     "name": "stdout",
     "output_type": "stream",
     "text": [
      "61/61 [==============================] - 1s 19ms/step - loss: 0.0155 - accuracy: 0.8582 - weighted_accuracy: 0.8959\n"
     ]
    },
    {
     "name": "stderr",
     "output_type": "stream",
     "text": [
      " 39%|███▉      | 11/28 [14:33<22:14, 78.48s/it]"
     ]
    },
    {
     "name": "stdout",
     "output_type": "stream",
     "text": [
      "61/61 [==============================] - 1s 20ms/step - loss: 0.0148 - accuracy: 0.8556 - weighted_accuracy: 0.8918\n"
     ]
    },
    {
     "name": "stderr",
     "output_type": "stream",
     "text": [
      " 43%|████▎     | 12/28 [15:53<21:03, 78.96s/it]"
     ]
    },
    {
     "name": "stdout",
     "output_type": "stream",
     "text": [
      "61/61 [==============================] - 1s 19ms/step - loss: 0.0117 - accuracy: 0.8736 - weighted_accuracy: 0.8881\n"
     ]
    },
    {
     "name": "stderr",
     "output_type": "stream",
     "text": [
      " 46%|████▋     | 13/28 [17:15<19:57, 79.82s/it]"
     ]
    },
    {
     "name": "stdout",
     "output_type": "stream",
     "text": [
      "61/61 [==============================] - 1s 20ms/step - loss: 0.0135 - accuracy: 0.8767 - weighted_accuracy: 0.8969\n"
     ]
    },
    {
     "name": "stderr",
     "output_type": "stream",
     "text": [
      " 50%|█████     | 14/28 [18:40<18:57, 81.23s/it]"
     ]
    },
    {
     "name": "stdout",
     "output_type": "stream",
     "text": [
      "61/61 [==============================] - 1s 17ms/step - loss: 0.0136 - accuracy: 0.8510 - weighted_accuracy: 0.8941\n"
     ]
    },
    {
     "name": "stderr",
     "output_type": "stream",
     "text": [
      " 54%|█████▎    | 15/28 [20:06<17:54, 82.67s/it]"
     ]
    },
    {
     "name": "stdout",
     "output_type": "stream",
     "text": [
      "61/61 [==============================] - 1s 19ms/step - loss: 0.0134 - accuracy: 0.8839 - weighted_accuracy: 0.8837\n"
     ]
    },
    {
     "name": "stderr",
     "output_type": "stream",
     "text": [
      " 57%|█████▋    | 16/28 [21:37<17:02, 85.18s/it]"
     ]
    },
    {
     "name": "stdout",
     "output_type": "stream",
     "text": [
      "61/61 [==============================] - 1s 21ms/step - loss: 0.0121 - accuracy: 0.8582 - weighted_accuracy: 0.8896\n"
     ]
    },
    {
     "name": "stderr",
     "output_type": "stream",
     "text": [
      " 61%|██████    | 17/28 [23:16<16:24, 89.49s/it]"
     ]
    },
    {
     "name": "stdout",
     "output_type": "stream",
     "text": [
      "61/61 [==============================] - 1s 20ms/step - loss: 0.0159 - accuracy: 0.8268 - weighted_accuracy: 0.8572\n"
     ]
    },
    {
     "name": "stderr",
     "output_type": "stream",
     "text": [
      " 64%|██████▍   | 18/28 [25:00<15:36, 93.70s/it]"
     ]
    },
    {
     "name": "stdout",
     "output_type": "stream",
     "text": [
      "61/61 [==============================] - 1s 19ms/step - loss: 0.0136 - accuracy: 0.8654 - weighted_accuracy: 0.8947\n"
     ]
    },
    {
     "name": "stderr",
     "output_type": "stream",
     "text": [
      " 68%|██████▊   | 19/28 [26:55<15:00, 100.10s/it]"
     ]
    },
    {
     "name": "stdout",
     "output_type": "stream",
     "text": [
      "61/61 [==============================] - 1s 22ms/step - loss: 0.0138 - accuracy: 0.8710 - weighted_accuracy: 0.8906\n"
     ]
    },
    {
     "name": "stderr",
     "output_type": "stream",
     "text": [
      " 71%|███████▏  | 20/28 [28:58<14:16, 107.09s/it]"
     ]
    },
    {
     "name": "stdout",
     "output_type": "stream",
     "text": [
      "61/61 [==============================] - 1s 24ms/step - loss: 0.0147 - accuracy: 0.8762 - weighted_accuracy: 0.8972\n"
     ]
    },
    {
     "name": "stderr",
     "output_type": "stream",
     "text": [
      " 75%|███████▌  | 21/28 [31:23<13:48, 118.36s/it]"
     ]
    },
    {
     "name": "stdout",
     "output_type": "stream",
     "text": [
      "61/61 [==============================] - 1s 21ms/step - loss: 0.0121 - accuracy: 0.8577 - weighted_accuracy: 0.8995\n"
     ]
    },
    {
     "name": "stderr",
     "output_type": "stream",
     "text": [
      " 79%|███████▊  | 22/28 [33:58<12:55, 129.26s/it]"
     ]
    },
    {
     "name": "stdout",
     "output_type": "stream",
     "text": [
      "61/61 [==============================] - 1s 22ms/step - loss: 0.0123 - accuracy: 0.8587 - weighted_accuracy: 0.8947\n"
     ]
    },
    {
     "name": "stderr",
     "output_type": "stream",
     "text": [
      " 82%|████████▏ | 23/28 [36:50<11:51, 142.36s/it]"
     ]
    },
    {
     "name": "stdout",
     "output_type": "stream",
     "text": [
      "61/61 [==============================] - 1s 22ms/step - loss: 0.0117 - accuracy: 0.8417 - weighted_accuracy: 0.8921\n"
     ]
    },
    {
     "name": "stderr",
     "output_type": "stream",
     "text": [
      " 86%|████████▌ | 24/28 [40:03<10:29, 157.48s/it]"
     ]
    },
    {
     "name": "stdout",
     "output_type": "stream",
     "text": [
      "61/61 [==============================] - 2s 25ms/step - loss: 0.0125 - accuracy: 0.8535 - weighted_accuracy: 0.8943\n"
     ]
    },
    {
     "name": "stderr",
     "output_type": "stream",
     "text": [
      " 89%|████████▉ | 25/28 [43:45<08:50, 176.89s/it]"
     ]
    },
    {
     "name": "stdout",
     "output_type": "stream",
     "text": [
      "61/61 [==============================] - 2s 28ms/step - loss: 0.0125 - accuracy: 0.8325 - weighted_accuracy: 0.8919\n"
     ]
    },
    {
     "name": "stderr",
     "output_type": "stream",
     "text": [
      " 93%|█████████▎| 26/28 [47:58<06:39, 199.61s/it]"
     ]
    },
    {
     "name": "stdout",
     "output_type": "stream",
     "text": [
      "61/61 [==============================] - 1s 23ms/step - loss: 0.0114 - accuracy: 0.8607 - weighted_accuracy: 0.8988\n"
     ]
    },
    {
     "name": "stderr",
     "output_type": "stream",
     "text": [
      " 96%|█████████▋| 27/28 [52:07<03:34, 214.51s/it]"
     ]
    },
    {
     "name": "stdout",
     "output_type": "stream",
     "text": [
      "61/61 [==============================] - 1s 17ms/step - loss: 0.0119 - accuracy: 0.8720 - weighted_accuracy: 0.8939\n"
     ]
    },
    {
     "name": "stderr",
     "output_type": "stream",
     "text": [
      "100%|██████████| 28/28 [56:15<00:00, 120.55s/it]\n"
     ]
    }
   ],
   "source": [
    "conv_sizes_layer2 = np.around(np.logspace(-2, 1.3, 30) * us2timesteps)\n",
    "print(conv_sizes_layer2)\n",
    "conv_sizes_layer2 = np.delete(conv_sizes_layer2, [1, 3])\n",
    "print()\n",
    "print(conv_sizes_layer2)\n",
    "\n",
    "num_filters_wider_test = 10\n",
    "\n",
    "loss_list_wider = []\n",
    "acc_list_wider = []\n",
    "w_acc_list_wider = []\n",
    "\n",
    "print('Number of Filters - ' + str(num_filters_wider_test))\n",
    "for j in tqdm(range(len(conv_sizes_layer2))):\n",
    "    # loss, acc, w_acc = two_layer_cnn_test(filter_size=int(conv_sizes_layer2[j]),\n",
    "    #                                       num_filters=int(num_filters_wider_test)\n",
    "    #                                       )\n",
    "    loss, acc, w_acc = two_layer_cnn_test(filter_size=int(conv_sizes_layer2[j]),\n",
    "                                          num_filters=int(num_filters_wider_test)\n",
    "                                          )\n",
    "    loss_list_wider.append(loss)\n",
    "    acc_list_wider.append(acc)\n",
    "    w_acc_list_wider.append(w_acc)"
   ]
  },
  {
   "cell_type": "code",
   "execution_count": 46,
   "metadata": {},
   "outputs": [
    {
     "data": {
      "text/plain": [
       "<matplotlib.legend.Legend at 0x5a80c8750>"
      ]
     },
     "execution_count": 46,
     "metadata": {},
     "output_type": "execute_result"
    },
    {
     "data": {
      "image/png": "[encoded data removed]",
      "text/plain": [
       "<Figure size 640x480 with 1 Axes>"
      ]
     },
     "metadata": {},
     "output_type": "display_data"
    }
   ],
   "source": [
    "plt.figure()\n",
    "plt.loglog(conv_sizes_layer2 / us2timesteps, acc_list_wider, label='accuracy')\n",
    "plt.loglog(conv_sizes_layer2 / us2timesteps, w_acc_list_wider, label='weighted accuracy')\n",
    "plt.xlabel('filter sizes (us)')\n",
    "plt.ylabel('accuracies')\n",
    "plt.title('initial layer accuracies - 10 filters')\n",
    "# plt.xscale='log'\n",
    "# plt.yscale='log'\n",
    "plt.legend()"
   ]
  },
  {
   "cell_type": "code",
   "execution_count": 47,
   "metadata": {},
   "outputs": [
    {
     "name": "stdout",
     "output_type": "stream",
     "text": [
      "Num Filters - 10\n",
      "max weighted accuracy - 0.8995243906974792\n",
      "best filter size - [4.14]us\n",
      "\n"
     ]
    }
   ],
   "source": [
    "w_acc_array = np.array(w_acc_list_wider)\n",
    "\n",
    "\n",
    "# print('best num filters - ' + str(np.where(w_acc_array==w_acc_array.max())))\n",
    "print('Num Filters - ' + str(num_filters_wider_test))\n",
    "print('max weighted accuracy - ' + str(w_acc_array.max()))\n",
    "# print(w_accs0to4.max())\n",
    "# print(w_accs6to8.max())\n",
    "# print(np.where(w_accs0to4==w_accs0to4.max())[1][0])\n",
    "print('best filter size - ' + str(conv_sizes_layer2[np.where(w_acc_array==w_acc_array.max())] / us2timesteps) + 'us')\n",
    "# print(np.where(w_accs6to8==w_accs6to8.max()))\n",
    "print()"
   ]
  },
  {
   "cell_type": "markdown",
   "metadata": {},
   "source": [
    "## Trying many filters for an 319 timestep second layer (900 timestep 6 filter first layer)"
   ]
  },
  {
   "cell_type": "code",
   "execution_count": 48,
   "metadata": {},
   "outputs": [
    {
     "name": "stdout",
     "output_type": "stream",
     "text": [
      "Number of Filters - [  1.   2.   3.   4.   6.   7.  10.  13.  18.  24.  32.  42.  56.  75.\n",
      " 100. 133. 178. 237. 316.]\n"
     ]
    },
    {
     "name": "stderr",
     "output_type": "stream",
     "text": [
      "  0%|          | 0/19 [00:00<?, ?it/s]"
     ]
    },
    {
     "name": "stdout",
     "output_type": "stream",
     "text": [
      "61/61 [==============================] - 1s 21ms/step - loss: 0.0136 - accuracy: 0.8633 - weighted_accuracy: 0.8987\n"
     ]
    },
    {
     "name": "stderr",
     "output_type": "stream",
     "text": [
      "  5%|▌         | 1/19 [01:49<32:54, 109.71s/it]"
     ]
    },
    {
     "name": "stdout",
     "output_type": "stream",
     "text": [
      "61/61 [==============================] - 1s 23ms/step - loss: 0.0151 - accuracy: 0.8582 - weighted_accuracy: 0.8939\n"
     ]
    },
    {
     "name": "stderr",
     "output_type": "stream",
     "text": [
      " 11%|█         | 2/19 [03:23<28:22, 100.12s/it]"
     ]
    },
    {
     "name": "stdout",
     "output_type": "stream",
     "text": [
      "61/61 [==============================] - 1s 22ms/step - loss: 0.0152 - accuracy: 0.8376 - weighted_accuracy: 0.8922\n"
     ]
    },
    {
     "name": "stderr",
     "output_type": "stream",
     "text": [
      " 16%|█▌        | 3/19 [05:00<26:18, 98.68s/it] "
     ]
    },
    {
     "name": "stdout",
     "output_type": "stream",
     "text": [
      "61/61 [==============================] - 1s 21ms/step - loss: 0.0153 - accuracy: 0.8633 - weighted_accuracy: 0.8929\n"
     ]
    },
    {
     "name": "stderr",
     "output_type": "stream",
     "text": [
      " 21%|██        | 4/19 [06:35<24:22, 97.53s/it]"
     ]
    },
    {
     "name": "stdout",
     "output_type": "stream",
     "text": [
      "61/61 [==============================] - 1s 21ms/step - loss: 0.0142 - accuracy: 0.8839 - weighted_accuracy: 0.8773\n"
     ]
    },
    {
     "name": "stderr",
     "output_type": "stream",
     "text": [
      " 26%|██▋       | 5/19 [08:22<23:30, 100.76s/it]"
     ]
    },
    {
     "name": "stdout",
     "output_type": "stream",
     "text": [
      "61/61 [==============================] - 1s 21ms/step - loss: 0.0157 - accuracy: 0.8037 - weighted_accuracy: 0.8816\n"
     ]
    },
    {
     "name": "stderr",
     "output_type": "stream",
     "text": [
      " 32%|███▏      | 6/19 [10:32<23:59, 110.76s/it]"
     ]
    },
    {
     "name": "stdout",
     "output_type": "stream",
     "text": [
      "61/61 [==============================] - 1s 23ms/step - loss: 0.0131 - accuracy: 0.8520 - weighted_accuracy: 0.8959\n"
     ]
    },
    {
     "name": "stderr",
     "output_type": "stream",
     "text": [
      " 37%|███▋      | 7/19 [12:57<24:25, 122.11s/it]"
     ]
    },
    {
     "name": "stdout",
     "output_type": "stream",
     "text": [
      "61/61 [==============================] - 2s 25ms/step - loss: 0.0148 - accuracy: 0.8700 - weighted_accuracy: 0.8727\n"
     ]
    },
    {
     "name": "stderr",
     "output_type": "stream",
     "text": [
      " 42%|████▏     | 8/19 [16:40<28:16, 154.18s/it]"
     ]
    },
    {
     "name": "stdout",
     "output_type": "stream",
     "text": [
      "61/61 [==============================] - 2s 29ms/step - loss: 0.0121 - accuracy: 0.8607 - weighted_accuracy: 0.8975\n"
     ]
    },
    {
     "name": "stderr",
     "output_type": "stream",
     "text": [
      " 47%|████▋     | 9/19 [20:39<30:06, 180.69s/it]"
     ]
    },
    {
     "name": "stdout",
     "output_type": "stream",
     "text": [
      "61/61 [==============================] - 2s 26ms/step - loss: 0.0121 - accuracy: 0.8613 - weighted_accuracy: 0.8972\n"
     ]
    },
    {
     "name": "stderr",
     "output_type": "stream",
     "text": [
      " 53%|█████▎    | 10/19 [24:50<30:20, 202.25s/it]"
     ]
    },
    {
     "name": "stdout",
     "output_type": "stream",
     "text": [
      "61/61 [==============================] - 2s 26ms/step - loss: 0.0134 - accuracy: 0.8078 - weighted_accuracy: 0.8742\n"
     ]
    },
    {
     "name": "stderr",
     "output_type": "stream",
     "text": [
      " 58%|█████▊    | 11/19 [28:18<27:11, 203.92s/it]"
     ]
    },
    {
     "name": "stdout",
     "output_type": "stream",
     "text": [
      "61/61 [==============================] - 2s 40ms/step - loss: 0.0132 - accuracy: 0.8124 - weighted_accuracy: 0.8833\n"
     ]
    },
    {
     "name": "stderr",
     "output_type": "stream",
     "text": [
      " 63%|██████▎   | 12/19 [35:12<31:16, 268.02s/it]"
     ]
    },
    {
     "name": "stdout",
     "output_type": "stream",
     "text": [
      "61/61 [==============================] - 2s 35ms/step - loss: 0.0119 - accuracy: 0.8649 - weighted_accuracy: 0.8871\n"
     ]
    },
    {
     "name": "stderr",
     "output_type": "stream",
     "text": [
      " 68%|██████▊   | 13/19 [42:49<32:31, 325.31s/it]"
     ]
    },
    {
     "name": "stdout",
     "output_type": "stream",
     "text": [
      "61/61 [==============================] - 5s 77ms/step - loss: 0.0125 - accuracy: 0.8772 - weighted_accuracy: 0.8881\n"
     ]
    },
    {
     "name": "stderr",
     "output_type": "stream",
     "text": [
      " 74%|███████▎  | 14/19 [55:48<38:31, 462.32s/it]"
     ]
    },
    {
     "name": "stdout",
     "output_type": "stream",
     "text": [
      "61/61 [==============================] - 4s 59ms/step - loss: 0.0116 - accuracy: 0.8705 - weighted_accuracy: 0.8925\n"
     ]
    },
    {
     "name": "stderr",
     "output_type": "stream",
     "text": [
      " 79%|███████▉  | 15/19 [2:36:59<2:23:31, 2152.85s/it]"
     ]
    },
    {
     "name": "stdout",
     "output_type": "stream",
     "text": [
      "61/61 [==============================] - 8s 126ms/step - loss: 0.0117 - accuracy: 0.8628 - weighted_accuracy: 0.8995\n"
     ]
    },
    {
     "name": "stderr",
     "output_type": "stream",
     "text": [
      " 84%|████████▍ | 16/19 [2:58:57<1:35:04, 1901.51s/it]"
     ]
    },
    {
     "name": "stdout",
     "output_type": "stream",
     "text": [
      "61/61 [==============================] - 7s 118ms/step - loss: 0.0120 - accuracy: 0.8643 - weighted_accuracy: 0.8859\n"
     ]
    },
    {
     "name": "stderr",
     "output_type": "stream",
     "text": [
      " 89%|████████▉ | 17/19 [3:27:08<1:01:16, 1838.39s/it]"
     ]
    },
    {
     "name": "stdout",
     "output_type": "stream",
     "text": [
      "61/61 [==============================] - 14s 231ms/step - loss: 0.0115 - accuracy: 0.8782 - weighted_accuracy: 0.8887\n"
     ]
    },
    {
     "name": "stderr",
     "output_type": "stream",
     "text": [
      " 95%|█████████▍| 18/19 [4:13:50<35:27, 2127.85s/it]  "
     ]
    },
    {
     "name": "stdout",
     "output_type": "stream",
     "text": [
      "61/61 [==============================] - 9s 146ms/step - loss: 0.0118 - accuracy: 0.8746 - weighted_accuracy: 0.8920\n"
     ]
    },
    {
     "name": "stderr",
     "output_type": "stream",
     "text": [
      "100%|██████████| 19/19 [4:56:32<00:00, 936.45s/it] \n"
     ]
    }
   ],
   "source": [
    "# testing number of convolutions\n",
    "\n",
    "num_filters_big_range = np.around(np.logspace(0, 3, 25))[:21]\n",
    "num_filters_big_range = np.delete(num_filters_big_range, [1, 3])\n",
    "conv_size_big_range = 319\n",
    "\n",
    "loss_list_big_range = []\n",
    "acc_list_big_range = []\n",
    "w_acc_list_big_range = []\n",
    "\n",
    "print('Number of Filters - ' + str(num_filters_big_range))\n",
    "for j in tqdm(range(len(num_filters_big_range))):\n",
    "    loss, acc, w_acc = two_layer_cnn_test(filter_size=int(conv_size_big_range),\n",
    "                                          num_filters=int(num_filters_big_range[j])\n",
    "                                          )\n",
    "    loss_list_big_range.append(loss)\n",
    "    acc_list_big_range.append(acc)\n",
    "    w_acc_list_big_range.append(w_acc)"
   ]
  },
  {
   "cell_type": "code",
   "execution_count": 50,
   "metadata": {},
   "outputs": [
    {
     "data": {
      "text/plain": [
       "<matplotlib.legend.Legend at 0x37a2ff450>"
      ]
     },
     "execution_count": 50,
     "metadata": {},
     "output_type": "execute_result"
    },
    {
     "data": {
      "image/png": "[encoded data removed]",
      "text/plain": [
       "<Figure size 640x480 with 1 Axes>"
      ]
     },
     "metadata": {},
     "output_type": "display_data"
    }
   ],
   "source": [
    "plt.figure()\n",
    "plt.loglog(num_filters_big_range[:len(acc_list_big_range)], acc_list_big_range, label='accuracy')\n",
    "plt.loglog(num_filters_big_range[:len(w_acc_list_big_range)], w_acc_list_big_range, label='weighted accuracy')\n",
    "plt.xlabel('number of filters')\n",
    "plt.ylabel('accuracy score')\n",
    "plt.title('initial layer accuracies - 3.19us (319 t-steps)')\n",
    "# plt.xscale='log'\n",
    "# plt.yscale='log'\n",
    "plt.legend()"
   ]
  },
  {
   "cell_type": "code",
   "execution_count": null,
   "metadata": {},
   "outputs": [],
   "source": []
  }
 ],
 "metadata": {
  "kernelspec": {
   "display_name": "spyder-env",
   "language": "python",
   "name": "python3"
  },
  "language_info": {
   "codemirror_mode": {
    "name": "ipython",
    "version": 3
   },
   "file_extension": ".py",
   "mimetype": "text/x-python",
   "name": "python",
   "nbconvert_exporter": "python",
   "pygments_lexer": "ipython3",
   "version": "3.11.5"
  }
 },
 "nbformat": 4,
 "nbformat_minor": 2
}
