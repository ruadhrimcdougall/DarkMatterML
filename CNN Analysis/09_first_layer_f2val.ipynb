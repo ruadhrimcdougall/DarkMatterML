{
 "cells": [
  {
   "cell_type": "code",
   "execution_count": 198,
   "metadata": {},
   "outputs": [],
   "source": [
    "# script libraries\n",
    "import data\n",
    "# data handling\n",
    "import pandas as pd\n",
    "import numpy as np\n",
    "# machine learning\n",
    "import tensorflow as tf\n",
    "from tensorflow import keras\n",
    "# from tensorflow.keras.layers import Conv1D, MaxPooling1D, Flatten, Dense, Dropout, Masking, BatchNormalization\n",
    "from sklearn.model_selection import train_test_split, StratifiedKFold\n",
    "from sklearn.preprocessing import MinMaxScaler\n",
    "from sklearn.metrics import classification_report, roc_auc_score, accuracy_score, precision_score, recall_score, fbeta_score\n",
    "# from tensorflow.keras.models import Model\n",
    "import keras.backend as K\n",
    "# plotting\n",
    "import matplotlib.pyplot as plt\n",
    "import seaborn as sns\n",
    "from hist import Hist\n",
    "import hist\n",
    "from tqdm import tqdm"
   ]
  },
  {
   "cell_type": "code",
   "execution_count": 199,
   "metadata": {},
   "outputs": [],
   "source": [
    "# load in padded dataset\n",
    "chonky_padded_waveforms = pd.read_parquet('padded_waveforms.parquet')"
   ]
  },
  {
   "cell_type": "code",
   "execution_count": 200,
   "metadata": {},
   "outputs": [],
   "source": [
    "# us to timesteps\n",
    "us2timesteps = 100\n",
    "\n",
    "# convolution sizes\n",
    "# bigger_steps = np.flip(np.arange(14*us2timesteps, 26*us2timesteps, 2*us2timesteps))\n",
    "# print(bigger_steps)\n",
    "# big_steps = np.flip(np.arange(1*us2timesteps, 13*us2timesteps, us2timesteps))\n",
    "# med_steps = np.flip(np.arange(0.1*us2timesteps, 1*us2timesteps, 0.1*us2timesteps))\n",
    "# smol_steps = np.flip(np.arange(0.01*us2timesteps, 0.1*us2timesteps, 0.01*us2timesteps))\n",
    "# conv_sizes = np.concatenate((big_steps, med_steps, smol_steps))\n",
    "\n",
    "# print(conv_sizes.shape)"
   ]
  },
  {
   "cell_type": "code",
   "execution_count": 201,
   "metadata": {},
   "outputs": [
    {
     "name": "stdout",
     "output_type": "stream",
     "text": [
      "[2400 2200 2000 1800 1600 1400]\n"
     ]
    }
   ],
   "source": [
    "# convolution sizes\n",
    "bigger_steps = np.flip(np.arange(14*us2timesteps, 26*us2timesteps, 2*us2timesteps))\n",
    "print(bigger_steps)\n",
    "big_steps = np.flip(np.arange(1*us2timesteps, 13*us2timesteps, us2timesteps))\n",
    "med_steps = np.flip(np.arange(0.1*us2timesteps, 1*us2timesteps, 0.1*us2timesteps))\n",
    "smol_steps = np.flip(np.arange(0.01*us2timesteps, 0.1*us2timesteps, 0.01*us2timesteps))\n",
    "conv_sizes = np.concatenate((bigger_steps, big_steps, med_steps, smol_steps))\n",
    "# print(conv_sizes)"
   ]
  },
  {
   "cell_type": "code",
   "execution_count": 244,
   "metadata": {},
   "outputs": [
    {
     "name": "stdout",
     "output_type": "stream",
     "text": [
      "24.96419906616211\n",
      "0.0\n",
      "1.0\n",
      "(7782, 3028)\n",
      "(7782, 1)\n",
      "3028\n"
     ]
    },
    {
     "data": {
      "image/png": "[encoded data removed]",
      "text/plain": [
       "<Figure size 640x480 with 1 Axes>"
      ]
     },
     "metadata": {},
     "output_type": "display_data"
    }
   ],
   "source": [
    "# finalising the data arrays\n",
    "padded_array = chonky_padded_waveforms['chonkers'].to_numpy()\n",
    "x_data = np.stack(padded_array, axis=0)\n",
    "\n",
    "plt.figure()\n",
    "plt.plot(x_data[100,:])\n",
    "\n",
    "# divide by max phd\n",
    "max_phd = x_data.max()\n",
    "print(max_phd)\n",
    "x_data = x_data / max_phd\n",
    "# set all values less than zero (probs due to noise) to zero. I think this is the correct way to do this?\n",
    "x_data[x_data < 0] = 0\n",
    "# waveform intensity range should now be between zero and 1.\n",
    "print(x_data.min())\n",
    "print(x_data.max())\n",
    "print(x_data.shape)\n",
    "y_data = chonky_padded_waveforms['label'].to_numpy().reshape((-1,1))\n",
    "print(y_data.shape)\n",
    "input_length = x_data.shape[-1]\n",
    "print(input_length)"
   ]
  },
  {
   "cell_type": "code",
   "execution_count": 203,
   "metadata": {},
   "outputs": [],
   "source": [
    "# get training and testing sets\n",
    "runID = chonky_padded_waveforms['runID']\n",
    "eventID = chonky_padded_waveforms['eventID']\n",
    "W_array = chonky_padded_waveforms['weights_no_gas'].to_numpy()\n",
    "# X_train, X_test, \\\n",
    "# y_train, y_test, \\\n",
    "# W_train, W_test, \\\n",
    "# runID_train, runID_test, \\\n",
    "# eventID_train, eventID_test = \\\n",
    "# train_test_split(x_data, y_data, W_array, runID, eventID, random_state=0)\n",
    "# print(X_train.shape)\n",
    "# print(y_train.shape)\n",
    "# print(X_train)\n",
    "# print(y_train)\n",
    "# X_train_reshaped = np.expand_dims(X_train, axis=-1)\n",
    "# print(X_train_reshaped.shape)\n",
    "\n",
    "# print(W_train.shape)"
   ]
  },
  {
   "cell_type": "code",
   "execution_count": 204,
   "metadata": {},
   "outputs": [],
   "source": [
    "# metrics\n",
    "# def precision(y_true, y_pred):\n",
    "#     true_positives = K.sum(K.round(K.clip(y_true * y_pred, 0, 1)))\n",
    "#     predicted_positives = K.sum(K.round(K.clip(y_pred, 0, 1)))\n",
    "#     return true_positives / (predicted_positives + K.epsilon())\n",
    "\n",
    "# def recall(y_true, y_pred): \n",
    "#     true_positives = K.sum(K.round(K.clip(y_true * y_pred, 0, 1)))\n",
    "#     possible_positives = K.sum(K.round(K.clip(y_true, 0, 1)))\n",
    "#     return true_positives / (possible_positives + K.epsilon())\n",
    "\n",
    "# def f_beta(y_true, y_pred, beta=2):\n",
    "#     precision_value = precision(y_true, y_pred)\n",
    "#     recall_value = recall(y_true, y_pred)\n",
    "#     numer = (1 + beta ** 2) * (precision_value * recall_value)\n",
    "#     denom = ((beta ** 2) * precision_value) + recall_value + K.epsilon()\n",
    "#     return numer / denom\n",
    "\n",
    "# function to make a cnn\n",
    "def one_layer_cnn_test(X_train, y_train, W_train, X_test, y_test, W_test, filter_size, num_filters=10, train_iters=30):\n",
    "    CNN_model = keras.Sequential([\n",
    "        keras.layers.Conv1D(filters=num_filters, kernel_size=filter_size, activation='relu', input_shape=(input_length, 1)),\n",
    "        keras.layers.Flatten(),\n",
    "        keras.layers.Dense(3, activation='softmax')\n",
    "    ])\n",
    "    CNN_model.compile(optimizer=tf.keras.optimizers.legacy.Adam(0.005),\n",
    "                      loss='sparse_categorical_crossentropy',#'binary_crossentropy',\n",
    "                      metrics=['accuracy'],\n",
    "                      weighted_metrics=['accuracy'])\n",
    "    callback = keras.callbacks.EarlyStopping(monitor='val_loss',\n",
    "                                             patience=3)\n",
    "    CNN_model.fit(X_train,y_train,epochs=train_iters, validation_split=0.1, shuffle=True, sample_weight=W_train, verbose=0, callbacks=[callback])\n",
    "    test_loss, test_acc, test_weight_acc = CNN_model.evaluate(X_test,y_test, sample_weight=W_test)\n",
    "    y_predicted = CNN_model.predict(X_test)\n",
    "    y_predicted_label = [np.argmax(i) for i in y_predicted]\n",
    "    f1score = fbeta_score(y_test, y_predicted_label, beta=1, labels=[2], average=None)\n",
    "    f2score = fbeta_score(y_test, y_predicted_label, beta=2, labels=[2], average=None)\n",
    "    f3score = fbeta_score(y_test, y_predicted_label, beta=3, labels=[2], average=None)\n",
    "    return test_loss, test_acc, test_weight_acc, f1score, f2score, f3score"
   ]
  },
  {
   "cell_type": "markdown",
   "metadata": {},
   "source": [
    "# Main cross-val loop"
   ]
  },
  {
   "cell_type": "code",
   "execution_count": 205,
   "metadata": {},
   "outputs": [
    {
     "name": "stdout",
     "output_type": "stream",
     "text": [
      "[1.000e+00 1.000e+00 2.000e+00 2.000e+00 3.000e+00 4.000e+00 5.000e+00\n",
      " 6.000e+00 8.000e+00 1.100e+01 1.400e+01 1.800e+01 2.300e+01 3.000e+01\n",
      " 3.900e+01 5.100e+01 6.600e+01 8.600e+01 1.120e+02 1.450e+02 1.890e+02\n",
      " 2.450e+02 3.190e+02 4.140e+02 5.380e+02 7.000e+02 9.090e+02 1.181e+03\n",
      " 1.535e+03 1.995e+03]\n",
      "\n",
      "[1.000e+00 2.000e+00 3.000e+00 4.000e+00 5.000e+00 6.000e+00 8.000e+00\n",
      " 1.100e+01 1.400e+01 1.800e+01 2.300e+01 3.000e+01 3.900e+01 5.100e+01\n",
      " 6.600e+01 8.600e+01 1.120e+02 1.450e+02 1.890e+02 2.450e+02 3.190e+02\n",
      " 4.140e+02 5.380e+02 7.000e+02 9.090e+02 1.181e+03 1.535e+03 1.995e+03]\n",
      "Number of Filters - 10\n"
     ]
    },
    {
     "name": "stderr",
     "output_type": "stream",
     "text": [
      "  0%|          | 0/28 [00:00<?, ?it/s]"
     ]
    },
    {
     "name": "stdout",
     "output_type": "stream",
     "text": [
      "Filter Size - 1.0\n",
      "49/49 [==============================] - 0s 8ms/step - loss: 0.0168 - accuracy: 0.7219 - weighted_accuracy: 0.8263\n",
      "49/49 [==============================] - 0s 2ms/step\n",
      "49/49 [==============================] - 0s 7ms/step - loss: 0.0238 - accuracy: 0.6917 - weighted_accuracy: 0.7865\n",
      "49/49 [==============================] - 0s 3ms/step\n",
      "49/49 [==============================] - 0s 7ms/step - loss: 0.0208 - accuracy: 0.6883 - weighted_accuracy: 0.7869\n",
      "49/49 [==============================] - 0s 2ms/step\n",
      "49/49 [==============================] - 0s 7ms/step - loss: 0.0213 - accuracy: 0.8059 - weighted_accuracy: 0.8639\n",
      "49/49 [==============================] - 0s 2ms/step\n",
      "49/49 [==============================] - 0s 7ms/step - loss: 0.0182 - accuracy: 0.6896 - weighted_accuracy: 0.8268\n",
      "49/49 [==============================] - 0s 2ms/step\n"
     ]
    },
    {
     "name": "stderr",
     "output_type": "stream",
     "text": [
      "  4%|▎         | 1/28 [00:59<26:55, 59.83s/it]"
     ]
    },
    {
     "name": "stdout",
     "output_type": "stream",
     "text": [
      "Filter Size - 2.0\n",
      "49/49 [==============================] - 0s 7ms/step - loss: 0.0180 - accuracy: 0.7534 - weighted_accuracy: 0.7928\n",
      "49/49 [==============================] - 0s 3ms/step\n",
      "49/49 [==============================] - 0s 7ms/step - loss: 0.0200 - accuracy: 0.7681 - weighted_accuracy: 0.8388\n",
      "49/49 [==============================] - 0s 3ms/step\n",
      "49/49 [==============================] - 0s 8ms/step - loss: 0.0163 - accuracy: 0.8066 - weighted_accuracy: 0.8529\n",
      "49/49 [==============================] - 0s 2ms/step\n",
      "49/49 [==============================] - 0s 9ms/step - loss: 0.0257 - accuracy: 0.7449 - weighted_accuracy: 0.7504\n",
      "49/49 [==============================] - 0s 2ms/step\n",
      "49/49 [==============================] - 0s 7ms/step - loss: 0.0185 - accuracy: 0.7943 - weighted_accuracy: 0.8271\n",
      "49/49 [==============================] - 0s 2ms/step\n"
     ]
    },
    {
     "name": "stderr",
     "output_type": "stream",
     "text": [
      "  7%|▋         | 2/28 [01:47<22:52, 52.80s/it]"
     ]
    },
    {
     "name": "stdout",
     "output_type": "stream",
     "text": [
      "Filter Size - 3.0\n",
      "49/49 [==============================] - 0s 8ms/step - loss: 0.0157 - accuracy: 0.7258 - weighted_accuracy: 0.8481\n",
      "49/49 [==============================] - 0s 3ms/step\n",
      "49/49 [==============================] - 0s 7ms/step - loss: 0.0209 - accuracy: 0.7232 - weighted_accuracy: 0.8241\n",
      "49/49 [==============================] - 0s 2ms/step\n",
      "49/49 [==============================] - 0s 8ms/step - loss: 0.0146 - accuracy: 0.7667 - weighted_accuracy: 0.8548\n",
      "49/49 [==============================] - 0s 3ms/step\n",
      "49/49 [==============================] - 0s 7ms/step - loss: 0.0236 - accuracy: 0.8123 - weighted_accuracy: 0.7727\n",
      "49/49 [==============================] - 0s 4ms/step\n",
      "49/49 [==============================] - 0s 8ms/step - loss: 0.0188 - accuracy: 0.7577 - weighted_accuracy: 0.8470\n",
      "49/49 [==============================] - 0s 2ms/step\n"
     ]
    },
    {
     "name": "stderr",
     "output_type": "stream",
     "text": [
      " 11%|█         | 3/28 [02:40<21:57, 52.69s/it]"
     ]
    },
    {
     "name": "stdout",
     "output_type": "stream",
     "text": [
      "Filter Size - 4.0\n",
      "49/49 [==============================] - 0s 8ms/step - loss: 0.0144 - accuracy: 0.8497 - weighted_accuracy: 0.8733\n",
      "49/49 [==============================] - 0s 3ms/step\n",
      "49/49 [==============================] - 0s 8ms/step - loss: 0.0192 - accuracy: 0.8317 - weighted_accuracy: 0.8507\n",
      "49/49 [==============================] - 0s 3ms/step\n",
      "49/49 [==============================] - 0s 8ms/step - loss: 0.0197 - accuracy: 0.7198 - weighted_accuracy: 0.7856\n",
      "49/49 [==============================] - 0s 3ms/step\n",
      "49/49 [==============================] - 0s 8ms/step - loss: 0.0228 - accuracy: 0.7558 - weighted_accuracy: 0.8282\n",
      "49/49 [==============================] - 0s 3ms/step\n",
      "49/49 [==============================] - 0s 9ms/step - loss: 0.0165 - accuracy: 0.7545 - weighted_accuracy: 0.8430\n",
      "49/49 [==============================] - 0s 2ms/step\n"
     ]
    },
    {
     "name": "stderr",
     "output_type": "stream",
     "text": [
      " 14%|█▍        | 4/28 [03:26<20:05, 50.22s/it]"
     ]
    },
    {
     "name": "stdout",
     "output_type": "stream",
     "text": [
      "Filter Size - 5.0\n",
      "49/49 [==============================] - 0s 7ms/step - loss: 0.0193 - accuracy: 0.6519 - weighted_accuracy: 0.8036\n",
      "49/49 [==============================] - 0s 3ms/step\n",
      "49/49 [==============================] - 0s 7ms/step - loss: 0.0211 - accuracy: 0.7675 - weighted_accuracy: 0.8110\n",
      "49/49 [==============================] - 0s 2ms/step\n",
      "49/49 [==============================] - 0s 8ms/step - loss: 0.0143 - accuracy: 0.7744 - weighted_accuracy: 0.8705\n",
      "49/49 [==============================] - 0s 3ms/step\n",
      "49/49 [==============================] - 0s 8ms/step - loss: 0.0184 - accuracy: 0.8175 - weighted_accuracy: 0.8606\n",
      "49/49 [==============================] - 0s 4ms/step\n",
      "49/49 [==============================] - 0s 9ms/step - loss: 0.0216 - accuracy: 0.6645 - weighted_accuracy: 0.7970\n",
      "49/49 [==============================] - 0s 2ms/step\n"
     ]
    },
    {
     "name": "stderr",
     "output_type": "stream",
     "text": [
      " 18%|█▊        | 5/28 [04:23<20:06, 52.45s/it]"
     ]
    },
    {
     "name": "stdout",
     "output_type": "stream",
     "text": [
      "Filter Size - 6.0\n",
      "49/49 [==============================] - 0s 9ms/step - loss: 0.0214 - accuracy: 0.5703 - weighted_accuracy: 0.7516\n",
      "49/49 [==============================] - 0s 3ms/step\n",
      "49/49 [==============================] - 0s 8ms/step - loss: 0.0217 - accuracy: 0.6551 - weighted_accuracy: 0.8030\n",
      "49/49 [==============================] - 0s 3ms/step\n",
      "49/49 [==============================] - 0s 8ms/step - loss: 0.0160 - accuracy: 0.7712 - weighted_accuracy: 0.8557\n",
      "49/49 [==============================] - 0s 4ms/step\n",
      "49/49 [==============================] - 0s 8ms/step - loss: 0.0172 - accuracy: 0.8123 - weighted_accuracy: 0.8634\n",
      "49/49 [==============================] - 0s 3ms/step\n",
      "49/49 [==============================] - 0s 8ms/step - loss: 0.0144 - accuracy: 0.8188 - weighted_accuracy: 0.8666\n",
      "49/49 [==============================] - 0s 2ms/step\n"
     ]
    },
    {
     "name": "stderr",
     "output_type": "stream",
     "text": [
      " 21%|██▏       | 6/28 [05:12<18:52, 51.47s/it]"
     ]
    },
    {
     "name": "stdout",
     "output_type": "stream",
     "text": [
      "Filter Size - 8.0\n",
      "49/49 [==============================] - 0s 9ms/step - loss: 0.0166 - accuracy: 0.7450 - weighted_accuracy: 0.8470\n",
      "49/49 [==============================] - 0s 3ms/step\n",
      "49/49 [==============================] - 0s 8ms/step - loss: 0.0203 - accuracy: 0.8028 - weighted_accuracy: 0.8244\n",
      "49/49 [==============================] - 0s 3ms/step\n",
      "49/49 [==============================] - 0s 9ms/step - loss: 0.0164 - accuracy: 0.7127 - weighted_accuracy: 0.8492\n",
      "49/49 [==============================] - 0s 4ms/step\n",
      "49/49 [==============================] - 0s 8ms/step - loss: 0.0245 - accuracy: 0.7275 - weighted_accuracy: 0.8259\n",
      "49/49 [==============================] - 0s 3ms/step\n",
      "49/49 [==============================] - 1s 10ms/step - loss: 0.0181 - accuracy: 0.7365 - weighted_accuracy: 0.8449\n",
      "49/49 [==============================] - 0s 3ms/step\n"
     ]
    },
    {
     "name": "stderr",
     "output_type": "stream",
     "text": [
      " 25%|██▌       | 7/28 [06:19<19:43, 56.36s/it]"
     ]
    },
    {
     "name": "stdout",
     "output_type": "stream",
     "text": [
      "Filter Size - 11.0\n",
      "49/49 [==============================] - 0s 8ms/step - loss: 0.0183 - accuracy: 0.7296 - weighted_accuracy: 0.8247\n",
      "49/49 [==============================] - 0s 3ms/step\n",
      "49/49 [==============================] - 1s 10ms/step - loss: 0.0184 - accuracy: 0.7110 - weighted_accuracy: 0.8225\n",
      "49/49 [==============================] - 0s 3ms/step\n",
      "49/49 [==============================] - 0s 9ms/step - loss: 0.0148 - accuracy: 0.7474 - weighted_accuracy: 0.8534\n",
      "49/49 [==============================] - 0s 4ms/step\n",
      "49/49 [==============================] - 0s 8ms/step - loss: 0.0222 - accuracy: 0.7346 - weighted_accuracy: 0.8305\n",
      "49/49 [==============================] - 0s 3ms/step\n",
      "49/49 [==============================] - 0s 8ms/step - loss: 0.0172 - accuracy: 0.7635 - weighted_accuracy: 0.8526\n",
      "49/49 [==============================] - 0s 2ms/step\n"
     ]
    },
    {
     "name": "stderr",
     "output_type": "stream",
     "text": [
      " 29%|██▊       | 8/28 [07:16<18:52, 56.62s/it]"
     ]
    },
    {
     "name": "stdout",
     "output_type": "stream",
     "text": [
      "Filter Size - 14.0\n",
      "49/49 [==============================] - 0s 9ms/step - loss: 0.0176 - accuracy: 0.8067 - weighted_accuracy: 0.8405\n",
      "49/49 [==============================] - 0s 3ms/step\n",
      "49/49 [==============================] - 0s 10ms/step - loss: 0.0202 - accuracy: 0.7945 - weighted_accuracy: 0.8247\n",
      "49/49 [==============================] - 0s 3ms/step\n",
      "49/49 [==============================] - 0s 8ms/step - loss: 0.0153 - accuracy: 0.7976 - weighted_accuracy: 0.8261\n",
      "49/49 [==============================] - 0s 3ms/step\n",
      "49/49 [==============================] - 0s 9ms/step - loss: 0.0214 - accuracy: 0.7198 - weighted_accuracy: 0.8273\n",
      "49/49 [==============================] - 0s 3ms/step\n",
      "49/49 [==============================] - 0s 8ms/step - loss: 0.0236 - accuracy: 0.6337 - weighted_accuracy: 0.7800\n",
      "49/49 [==============================] - 0s 3ms/step\n"
     ]
    },
    {
     "name": "stderr",
     "output_type": "stream",
     "text": [
      " 32%|███▏      | 9/28 [08:16<18:18, 57.82s/it]"
     ]
    },
    {
     "name": "stdout",
     "output_type": "stream",
     "text": [
      "Filter Size - 18.0\n",
      "49/49 [==============================] - 0s 9ms/step - loss: 0.0157 - accuracy: 0.7778 - weighted_accuracy: 0.8605\n",
      "49/49 [==============================] - 0s 3ms/step\n",
      "49/49 [==============================] - 0s 8ms/step - loss: 0.0263 - accuracy: 0.7347 - weighted_accuracy: 0.7170\n",
      "49/49 [==============================] - 0s 3ms/step\n",
      "49/49 [==============================] - 0s 9ms/step - loss: 0.0180 - accuracy: 0.7680 - weighted_accuracy: 0.8408\n",
      "49/49 [==============================] - 0s 3ms/step\n",
      "49/49 [==============================] - 0s 8ms/step - loss: 0.0178 - accuracy: 0.7873 - weighted_accuracy: 0.8643\n",
      "49/49 [==============================] - 0s 3ms/step\n",
      "49/49 [==============================] - 0s 9ms/step - loss: 0.0151 - accuracy: 0.7725 - weighted_accuracy: 0.8574\n",
      "49/49 [==============================] - 0s 4ms/step\n"
     ]
    },
    {
     "name": "stderr",
     "output_type": "stream",
     "text": [
      " 36%|███▌      | 10/28 [09:10<16:57, 56.55s/it]"
     ]
    },
    {
     "name": "stdout",
     "output_type": "stream",
     "text": [
      "Filter Size - 23.0\n",
      "49/49 [==============================] - 0s 8ms/step - loss: 0.0130 - accuracy: 0.8407 - weighted_accuracy: 0.8704\n",
      "49/49 [==============================] - 0s 3ms/step\n",
      "49/49 [==============================] - 0s 9ms/step - loss: 0.0200 - accuracy: 0.7624 - weighted_accuracy: 0.8325\n",
      "49/49 [==============================] - 0s 3ms/step\n",
      "49/49 [==============================] - 0s 9ms/step - loss: 0.0159 - accuracy: 0.7474 - weighted_accuracy: 0.8474\n",
      "49/49 [==============================] - 0s 2ms/step\n",
      "49/49 [==============================] - 0s 10ms/step - loss: 0.0243 - accuracy: 0.7140 - weighted_accuracy: 0.8275\n",
      "49/49 [==============================] - 0s 3ms/step\n",
      "49/49 [==============================] - 0s 9ms/step - loss: 0.0164 - accuracy: 0.8438 - weighted_accuracy: 0.8245\n",
      "49/49 [==============================] - 0s 3ms/step\n"
     ]
    },
    {
     "name": "stderr",
     "output_type": "stream",
     "text": [
      " 39%|███▉      | 11/28 [10:16<16:52, 59.54s/it]"
     ]
    },
    {
     "name": "stdout",
     "output_type": "stream",
     "text": [
      "Filter Size - 30.0\n",
      "49/49 [==============================] - 0s 8ms/step - loss: 0.0136 - accuracy: 0.7347 - weighted_accuracy: 0.8475\n",
      "49/49 [==============================] - 0s 3ms/step\n",
      "49/49 [==============================] - 0s 9ms/step - loss: 0.0191 - accuracy: 0.7450 - weighted_accuracy: 0.8442\n",
      "49/49 [==============================] - 0s 3ms/step\n",
      "49/49 [==============================] - 0s 8ms/step - loss: 0.0140 - accuracy: 0.7789 - weighted_accuracy: 0.8490\n",
      "49/49 [==============================] - 0s 3ms/step\n",
      "49/49 [==============================] - 0s 8ms/step - loss: 0.0215 - accuracy: 0.7937 - weighted_accuracy: 0.8583\n",
      "49/49 [==============================] - 0s 3ms/step\n",
      "49/49 [==============================] - 0s 8ms/step - loss: 0.0154 - accuracy: 0.8078 - weighted_accuracy: 0.8371\n",
      "49/49 [==============================] - 0s 4ms/step\n"
     ]
    },
    {
     "name": "stderr",
     "output_type": "stream",
     "text": [
      " 43%|████▎     | 12/28 [11:10<15:23, 57.74s/it]"
     ]
    },
    {
     "name": "stdout",
     "output_type": "stream",
     "text": [
      "Filter Size - 39.0\n",
      "49/49 [==============================] - 0s 9ms/step - loss: 0.0126 - accuracy: 0.8439 - weighted_accuracy: 0.8814\n",
      "49/49 [==============================] - 0s 3ms/step\n",
      "49/49 [==============================] - 0s 8ms/step - loss: 0.0216 - accuracy: 0.7200 - weighted_accuracy: 0.8333\n",
      "49/49 [==============================] - 0s 3ms/step\n",
      "49/49 [==============================] - 0s 8ms/step - loss: 0.0158 - accuracy: 0.6812 - weighted_accuracy: 0.8351\n",
      "49/49 [==============================] - 0s 3ms/step\n",
      "49/49 [==============================] - 0s 8ms/step - loss: 0.0245 - accuracy: 0.7397 - weighted_accuracy: 0.8266\n",
      "49/49 [==============================] - 0s 3ms/step\n",
      "49/49 [==============================] - 0s 9ms/step - loss: 0.0148 - accuracy: 0.7442 - weighted_accuracy: 0.8565\n",
      "49/49 [==============================] - 0s 3ms/step\n"
     ]
    },
    {
     "name": "stderr",
     "output_type": "stream",
     "text": [
      " 46%|████▋     | 13/28 [12:14<14:54, 59.67s/it]"
     ]
    },
    {
     "name": "stdout",
     "output_type": "stream",
     "text": [
      "Filter Size - 51.0\n",
      "49/49 [==============================] - 0s 9ms/step - loss: 0.0130 - accuracy: 0.7990 - weighted_accuracy: 0.8755\n",
      "49/49 [==============================] - 0s 3ms/step\n",
      "49/49 [==============================] - 1s 12ms/step - loss: 0.0229 - accuracy: 0.6294 - weighted_accuracy: 0.7517\n",
      "49/49 [==============================] - 0s 3ms/step\n",
      "49/49 [==============================] - 1s 10ms/step - loss: 0.0145 - accuracy: 0.8258 - weighted_accuracy: 0.8541\n",
      "49/49 [==============================] - 0s 6ms/step\n",
      "49/49 [==============================] - 0s 10ms/step - loss: 0.0217 - accuracy: 0.7211 - weighted_accuracy: 0.8227\n",
      "49/49 [==============================] - 0s 3ms/step\n",
      "49/49 [==============================] - 0s 9ms/step - loss: 0.0138 - accuracy: 0.7995 - weighted_accuracy: 0.8708\n",
      "49/49 [==============================] - 0s 3ms/step\n"
     ]
    },
    {
     "name": "stderr",
     "output_type": "stream",
     "text": [
      " 50%|█████     | 14/28 [13:23<14:33, 62.38s/it]"
     ]
    },
    {
     "name": "stdout",
     "output_type": "stream",
     "text": [
      "Filter Size - 66.0\n",
      "49/49 [==============================] - 0s 9ms/step - loss: 0.0193 - accuracy: 0.7232 - weighted_accuracy: 0.8279\n",
      "49/49 [==============================] - 0s 3ms/step\n",
      "49/49 [==============================] - 0s 8ms/step - loss: 0.0176 - accuracy: 0.8041 - weighted_accuracy: 0.8470\n",
      "49/49 [==============================] - 0s 4ms/step\n",
      "49/49 [==============================] - 0s 9ms/step - loss: 0.0129 - accuracy: 0.8432 - weighted_accuracy: 0.8690\n",
      "49/49 [==============================] - 0s 3ms/step\n",
      "49/49 [==============================] - 1s 10ms/step - loss: 0.0272 - accuracy: 0.6819 - weighted_accuracy: 0.8155\n",
      "49/49 [==============================] - 0s 4ms/step\n",
      "49/49 [==============================] - 1s 11ms/step - loss: 0.0172 - accuracy: 0.6973 - weighted_accuracy: 0.8083\n",
      "49/49 [==============================] - 0s 4ms/step\n"
     ]
    },
    {
     "name": "stderr",
     "output_type": "stream",
     "text": [
      " 54%|█████▎    | 15/28 [14:33<14:01, 64.71s/it]"
     ]
    },
    {
     "name": "stdout",
     "output_type": "stream",
     "text": [
      "Filter Size - 86.0\n",
      "49/49 [==============================] - 1s 11ms/step - loss: 0.0198 - accuracy: 0.6718 - weighted_accuracy: 0.8011\n",
      "49/49 [==============================] - 0s 4ms/step\n",
      "49/49 [==============================] - 1s 16ms/step - loss: 0.0205 - accuracy: 0.6519 - weighted_accuracy: 0.8063\n",
      "49/49 [==============================] - 1s 12ms/step\n",
      "49/49 [==============================] - 1s 17ms/step - loss: 0.0128 - accuracy: 0.8425 - weighted_accuracy: 0.8514\n",
      "49/49 [==============================] - 0s 5ms/step\n",
      "49/49 [==============================] - 1s 14ms/step - loss: 0.0222 - accuracy: 0.8033 - weighted_accuracy: 0.8466\n",
      "49/49 [==============================] - 0s 5ms/step\n",
      "49/49 [==============================] - 1s 11ms/step - loss: 0.0142 - accuracy: 0.8220 - weighted_accuracy: 0.8613\n",
      "49/49 [==============================] - 0s 5ms/step\n"
     ]
    },
    {
     "name": "stderr",
     "output_type": "stream",
     "text": [
      " 57%|█████▋    | 16/28 [16:49<17:13, 86.10s/it]"
     ]
    },
    {
     "name": "stdout",
     "output_type": "stream",
     "text": [
      "Filter Size - 112.0\n",
      "49/49 [==============================] - 1s 12ms/step - loss: 0.0136 - accuracy: 0.7771 - weighted_accuracy: 0.8566\n",
      "49/49 [==============================] - 0s 5ms/step\n",
      "49/49 [==============================] - 1s 12ms/step - loss: 0.0218 - accuracy: 0.7270 - weighted_accuracy: 0.8036\n",
      "49/49 [==============================] - 0s 7ms/step\n",
      "49/49 [==============================] - 1s 11ms/step - loss: 0.0133 - accuracy: 0.7853 - weighted_accuracy: 0.8681\n",
      "49/49 [==============================] - 0s 6ms/step\n",
      "49/49 [==============================] - 1s 12ms/step - loss: 0.0190 - accuracy: 0.8008 - weighted_accuracy: 0.8516\n",
      "49/49 [==============================] - 0s 5ms/step\n",
      "49/49 [==============================] - 1s 13ms/step - loss: 0.0137 - accuracy: 0.7918 - weighted_accuracy: 0.8668\n",
      "49/49 [==============================] - 0s 5ms/step\n"
     ]
    },
    {
     "name": "stderr",
     "output_type": "stream",
     "text": [
      " 61%|██████    | 17/28 [18:24<16:19, 89.05s/it]"
     ]
    },
    {
     "name": "stdout",
     "output_type": "stream",
     "text": [
      "Filter Size - 145.0\n",
      "49/49 [==============================] - 1s 14ms/step - loss: 0.0183 - accuracy: 0.7386 - weighted_accuracy: 0.8406\n",
      "49/49 [==============================] - 0s 5ms/step\n",
      "49/49 [==============================] - 1s 11ms/step - loss: 0.0215 - accuracy: 0.7277 - weighted_accuracy: 0.8364\n",
      "49/49 [==============================] - 0s 6ms/step\n",
      "49/49 [==============================] - 0s 10ms/step - loss: 0.0127 - accuracy: 0.8143 - weighted_accuracy: 0.8575\n",
      "49/49 [==============================] - 0s 4ms/step\n",
      "49/49 [==============================] - 1s 13ms/step - loss: 0.0185 - accuracy: 0.8258 - weighted_accuracy: 0.8463\n",
      "49/49 [==============================] - 0s 6ms/step\n",
      "49/49 [==============================] - 1s 11ms/step - loss: 0.0243 - accuracy: 0.6780 - weighted_accuracy: 0.7949\n",
      "49/49 [==============================] - 0s 5ms/step\n"
     ]
    },
    {
     "name": "stderr",
     "output_type": "stream",
     "text": [
      " 64%|██████▍   | 18/28 [20:03<15:20, 92.04s/it]"
     ]
    },
    {
     "name": "stdout",
     "output_type": "stream",
     "text": [
      "Filter Size - 189.0\n",
      "49/49 [==============================] - 1s 14ms/step - loss: 0.0128 - accuracy: 0.8234 - weighted_accuracy: 0.8651\n",
      "49/49 [==============================] - 0s 5ms/step\n",
      "49/49 [==============================] - 1s 11ms/step - loss: 0.0184 - accuracy: 0.7604 - weighted_accuracy: 0.8523\n",
      "49/49 [==============================] - 0s 5ms/step\n",
      "49/49 [==============================] - 1s 13ms/step - loss: 0.0130 - accuracy: 0.8451 - weighted_accuracy: 0.8489\n",
      "49/49 [==============================] - 0s 7ms/step\n",
      "49/49 [==============================] - 1s 14ms/step - loss: 0.0225 - accuracy: 0.6697 - weighted_accuracy: 0.8133\n",
      "49/49 [==============================] - 0s 5ms/step\n",
      "49/49 [==============================] - 1s 16ms/step - loss: 0.0152 - accuracy: 0.7667 - weighted_accuracy: 0.8564\n",
      "49/49 [==============================] - 0s 5ms/step\n"
     ]
    },
    {
     "name": "stderr",
     "output_type": "stream",
     "text": [
      " 68%|██████▊   | 19/28 [22:00<14:55, 99.51s/it]"
     ]
    },
    {
     "name": "stdout",
     "output_type": "stream",
     "text": [
      "Filter Size - 245.0\n",
      "49/49 [==============================] - 1s 16ms/step - loss: 0.0112 - accuracy: 0.8369 - weighted_accuracy: 0.9003\n",
      "49/49 [==============================] - 0s 6ms/step\n",
      "49/49 [==============================] - 1s 12ms/step - loss: 0.0176 - accuracy: 0.8311 - weighted_accuracy: 0.8579\n",
      "49/49 [==============================] - 0s 6ms/step\n",
      "49/49 [==============================] - 1s 12ms/step - loss: 0.0253 - accuracy: 0.5495 - weighted_accuracy: 0.7266\n",
      "49/49 [==============================] - 0s 4ms/step\n",
      "49/49 [==============================] - 1s 18ms/step - loss: 0.0229 - accuracy: 0.7629 - weighted_accuracy: 0.8317\n",
      "49/49 [==============================] - 0s 4ms/step\n",
      "49/49 [==============================] - 1s 15ms/step - loss: 0.0171 - accuracy: 0.7487 - weighted_accuracy: 0.8319\n",
      "49/49 [==============================] - 0s 5ms/step\n"
     ]
    },
    {
     "name": "stderr",
     "output_type": "stream",
     "text": [
      " 71%|███████▏  | 20/28 [24:07<14:22, 107.76s/it]"
     ]
    },
    {
     "name": "stdout",
     "output_type": "stream",
     "text": [
      "Filter Size - 319.0\n",
      "49/49 [==============================] - 1s 17ms/step - loss: 0.0126 - accuracy: 0.8157 - weighted_accuracy: 0.8760\n",
      "49/49 [==============================] - 0s 6ms/step\n",
      "49/49 [==============================] - 1s 15ms/step - loss: 0.0203 - accuracy: 0.8349 - weighted_accuracy: 0.7860\n",
      "49/49 [==============================] - 0s 6ms/step\n",
      "49/49 [==============================] - 1s 16ms/step - loss: 0.0207 - accuracy: 0.4030 - weighted_accuracy: 0.6768\n",
      "49/49 [==============================] - 0s 6ms/step\n",
      "49/49 [==============================] - 1s 25ms/step - loss: 0.0228 - accuracy: 0.7410 - weighted_accuracy: 0.8457\n",
      "49/49 [==============================] - 1s 8ms/step\n",
      "49/49 [==============================] - 1s 14ms/step - loss: 0.0159 - accuracy: 0.7924 - weighted_accuracy: 0.8564\n",
      "49/49 [==============================] - 0s 6ms/step\n"
     ]
    },
    {
     "name": "stderr",
     "output_type": "stream",
     "text": [
      " 75%|███████▌  | 21/28 [26:22<13:30, 115.77s/it]"
     ]
    },
    {
     "name": "stdout",
     "output_type": "stream",
     "text": [
      "Filter Size - 414.0\n",
      "49/49 [==============================] - 1s 16ms/step - loss: 0.0198 - accuracy: 0.6519 - weighted_accuracy: 0.7840\n",
      "49/49 [==============================] - 0s 7ms/step\n",
      "49/49 [==============================] - 1s 14ms/step - loss: 0.0193 - accuracy: 0.7354 - weighted_accuracy: 0.7903\n",
      "49/49 [==============================] - 0s 7ms/step\n",
      "49/49 [==============================] - 1s 16ms/step - loss: 0.0128 - accuracy: 0.7699 - weighted_accuracy: 0.8683\n",
      "49/49 [==============================] - 0s 8ms/step\n",
      "49/49 [==============================] - 1s 16ms/step - loss: 0.0227 - accuracy: 0.7860 - weighted_accuracy: 0.8592\n",
      "49/49 [==============================] - 0s 6ms/step\n",
      "49/49 [==============================] - 1s 18ms/step - loss: 0.0165 - accuracy: 0.7288 - weighted_accuracy: 0.8400\n",
      "49/49 [==============================] - 0s 7ms/step\n"
     ]
    },
    {
     "name": "stderr",
     "output_type": "stream",
     "text": [
      " 79%|███████▊  | 22/28 [28:46<12:25, 124.19s/it]"
     ]
    },
    {
     "name": "stdout",
     "output_type": "stream",
     "text": [
      "Filter Size - 538.0\n",
      "49/49 [==============================] - 1s 19ms/step - loss: 0.0125 - accuracy: 0.8099 - weighted_accuracy: 0.8929\n",
      "49/49 [==============================] - 1s 8ms/step\n",
      "49/49 [==============================] - 1s 21ms/step - loss: 0.0231 - accuracy: 0.8407 - weighted_accuracy: 0.8309\n",
      "49/49 [==============================] - 1s 13ms/step\n",
      "49/49 [==============================] - 1s 20ms/step - loss: 0.0130 - accuracy: 0.7886 - weighted_accuracy: 0.8614\n",
      "49/49 [==============================] - 0s 8ms/step\n",
      "49/49 [==============================] - 1s 19ms/step - loss: 0.0186 - accuracy: 0.7950 - weighted_accuracy: 0.8696\n",
      "49/49 [==============================] - 1s 15ms/step\n",
      "49/49 [==============================] - 1s 20ms/step - loss: 0.0159 - accuracy: 0.8335 - weighted_accuracy: 0.8409\n",
      "49/49 [==============================] - 0s 8ms/step\n"
     ]
    },
    {
     "name": "stderr",
     "output_type": "stream",
     "text": [
      " 82%|████████▏ | 23/28 [32:01<12:07, 145.45s/it]"
     ]
    },
    {
     "name": "stdout",
     "output_type": "stream",
     "text": [
      "Filter Size - 700.0\n",
      "49/49 [==============================] - 1s 23ms/step - loss: 0.0139 - accuracy: 0.8279 - weighted_accuracy: 0.8745\n",
      "49/49 [==============================] - 1s 9ms/step\n",
      "49/49 [==============================] - 1s 16ms/step - loss: 0.0158 - accuracy: 0.8060 - weighted_accuracy: 0.8550\n",
      "49/49 [==============================] - 1s 9ms/step\n",
      "49/49 [==============================] - 1s 19ms/step - loss: 0.0121 - accuracy: 0.8355 - weighted_accuracy: 0.8742\n",
      "49/49 [==============================] - 1s 9ms/step\n",
      "49/49 [==============================] - 1s 21ms/step - loss: 0.0213 - accuracy: 0.7551 - weighted_accuracy: 0.8349\n",
      "49/49 [==============================] - 1s 10ms/step\n",
      "49/49 [==============================] - 1s 17ms/step - loss: 0.0179 - accuracy: 0.6864 - weighted_accuracy: 0.8130\n",
      "49/49 [==============================] - 1s 9ms/step\n"
     ]
    },
    {
     "name": "stderr",
     "output_type": "stream",
     "text": [
      " 86%|████████▌ | 24/28 [35:39<11:09, 167.32s/it]"
     ]
    },
    {
     "name": "stdout",
     "output_type": "stream",
     "text": [
      "Filter Size - 909.0\n",
      "49/49 [==============================] - 1s 20ms/step - loss: 0.0114 - accuracy: 0.8671 - weighted_accuracy: 0.9074\n",
      "49/49 [==============================] - 0s 7ms/step\n",
      "49/49 [==============================] - 1s 27ms/step - loss: 0.0188 - accuracy: 0.7771 - weighted_accuracy: 0.8405\n",
      "49/49 [==============================] - 1s 9ms/step\n",
      "49/49 [==============================] - 1s 24ms/step - loss: 0.0119 - accuracy: 0.8001 - weighted_accuracy: 0.8783\n",
      "49/49 [==============================] - 0s 7ms/step\n",
      "49/49 [==============================] - 1s 20ms/step - loss: 0.0169 - accuracy: 0.8175 - weighted_accuracy: 0.8723\n",
      "49/49 [==============================] - 0s 7ms/step\n",
      "49/49 [==============================] - 1s 20ms/step - loss: 0.0165 - accuracy: 0.7545 - weighted_accuracy: 0.8402\n",
      "49/49 [==============================] - 0s 7ms/step\n"
     ]
    },
    {
     "name": "stderr",
     "output_type": "stream",
     "text": [
      " 89%|████████▉ | 25/28 [39:46<09:33, 191.16s/it]"
     ]
    },
    {
     "name": "stdout",
     "output_type": "stream",
     "text": [
      "Filter Size - 1181.0\n",
      "49/49 [==============================] - 1s 25ms/step - loss: 0.0115 - accuracy: 0.8459 - weighted_accuracy: 0.8967\n",
      "49/49 [==============================] - 1s 8ms/step\n",
      "49/49 [==============================] - 1s 21ms/step - loss: 0.0159 - accuracy: 0.8285 - weighted_accuracy: 0.8243\n",
      "49/49 [==============================] - 1s 19ms/step\n",
      "49/49 [==============================] - 1s 18ms/step - loss: 0.0181 - accuracy: 0.6208 - weighted_accuracy: 0.7858\n",
      "49/49 [==============================] - 0s 8ms/step\n",
      "49/49 [==============================] - 1s 17ms/step - loss: 0.0209 - accuracy: 0.7995 - weighted_accuracy: 0.8477\n",
      "49/49 [==============================] - 1s 8ms/step\n",
      "49/49 [==============================] - 1s 19ms/step - loss: 0.0180 - accuracy: 0.7500 - weighted_accuracy: 0.8309\n",
      "49/49 [==============================] - 1s 8ms/step\n"
     ]
    },
    {
     "name": "stderr",
     "output_type": "stream",
     "text": [
      " 93%|█████████▎| 26/28 [43:55<06:57, 208.56s/it]"
     ]
    },
    {
     "name": "stdout",
     "output_type": "stream",
     "text": [
      "Filter Size - 1535.0\n",
      "49/49 [==============================] - 1s 18ms/step - loss: 0.0146 - accuracy: 0.8356 - weighted_accuracy: 0.8657\n",
      "49/49 [==============================] - 0s 8ms/step\n",
      "49/49 [==============================] - 1s 17ms/step - loss: 0.0194 - accuracy: 0.7765 - weighted_accuracy: 0.8331\n",
      "49/49 [==============================] - 1s 8ms/step\n",
      "49/49 [==============================] - 1s 22ms/step - loss: 0.0141 - accuracy: 0.7648 - weighted_accuracy: 0.8466\n",
      "49/49 [==============================] - 1s 13ms/step\n",
      "49/49 [==============================] - 1s 19ms/step - loss: 0.0230 - accuracy: 0.7821 - weighted_accuracy: 0.8353\n",
      "49/49 [==============================] - 1s 13ms/step\n",
      "49/49 [==============================] - 1s 20ms/step - loss: 0.0182 - accuracy: 0.6960 - weighted_accuracy: 0.8111\n",
      "49/49 [==============================] - 1s 8ms/step\n"
     ]
    },
    {
     "name": "stderr",
     "output_type": "stream",
     "text": [
      " 96%|█████████▋| 27/28 [48:04<03:40, 220.81s/it]"
     ]
    },
    {
     "name": "stdout",
     "output_type": "stream",
     "text": [
      "Filter Size - 1995.0\n",
      "49/49 [==============================] - 1s 20ms/step - loss: 0.0114 - accuracy: 0.8664 - weighted_accuracy: 0.9013\n",
      "49/49 [==============================] - 1s 18ms/step\n",
      "49/49 [==============================] - 1s 19ms/step - loss: 0.0323 - accuracy: 0.4053 - weighted_accuracy: 0.6652\n",
      "49/49 [==============================] - 1s 10ms/step\n",
      "49/49 [==============================] - 1s 18ms/step - loss: 0.0125 - accuracy: 0.8477 - weighted_accuracy: 0.8890\n",
      "49/49 [==============================] - 1s 10ms/step\n",
      "49/49 [==============================] - 1s 29ms/step - loss: 0.0262 - accuracy: 0.8612 - weighted_accuracy: 0.8859\n",
      "49/49 [==============================] - 1s 10ms/step\n",
      "49/49 [==============================] - 1s 20ms/step - loss: 0.0172 - accuracy: 0.8168 - weighted_accuracy: 0.8742\n",
      "49/49 [==============================] - 1s 10ms/step\n"
     ]
    },
    {
     "name": "stderr",
     "output_type": "stream",
     "text": [
      "100%|██████████| 28/28 [52:33<00:00, 112.64s/it]\n"
     ]
    }
   ],
   "source": [
    "filter_number = 10\n",
    "num_folds = 5\n",
    "\n",
    "conv_sizes_layer1 = np.around(np.logspace(-2, 1.3, 30) * us2timesteps)\n",
    "print(conv_sizes_layer1)\n",
    "conv_sizes_layer1 = np.delete(conv_sizes_layer1, [1, 3])\n",
    "print()\n",
    "print(conv_sizes_layer1)\n",
    "\n",
    "loss_arr = np.zeros((num_folds, len(conv_sizes_layer1)))\n",
    "acc_arr = np.zeros((num_folds, len(conv_sizes_layer1)))\n",
    "w_acc_arr = np.zeros((num_folds, len(conv_sizes_layer1)))\n",
    "f1_arr = np.zeros((num_folds, len(conv_sizes_layer1)))\n",
    "f2_arr = np.zeros((num_folds, len(conv_sizes_layer1)))\n",
    "f3_arr = np.zeros((num_folds, len(conv_sizes_layer1)))\n",
    "\n",
    "kfolds = StratifiedKFold(n_splits=num_folds, shuffle=True, random_state=0)\n",
    "\n",
    "print('Number of Filters - ' + str(filter_number))\n",
    "for j in tqdm(range(len(conv_sizes_layer1))):\n",
    "    print('Filter Size - ' + str(conv_sizes_layer1[j]))\n",
    "    fold_no = 1\n",
    "\n",
    "    for train, test in kfolds.split(x_data, y_data):\n",
    "        # print(type(x_data[train]))\n",
    "        loss, acc, w_acc, f1, f2, f3 = one_layer_cnn_test(x_data[train], y_data[train], W_array[train], \n",
    "                                                          x_data[test], y_data[test], W_array[test], \n",
    "                                                          filter_size=int(conv_sizes_layer1[j]), num_filters=int(filter_number))\n",
    "\n",
    "        loss_arr[fold_no-1, j] = loss\n",
    "        acc_arr[fold_no-1, j] = acc\n",
    "        w_acc_arr[fold_no-1, j] = w_acc\n",
    "        f1_arr[fold_no-1, j] = f1\n",
    "        f2_arr[fold_no-1, j] = f2\n",
    "        f3_arr[fold_no-1, j] = f3\n",
    "\n",
    "        # Increase fold number\n",
    "        fold_no = fold_no + 1"
   ]
  },
  {
   "cell_type": "code",
   "execution_count": 206,
   "metadata": {},
   "outputs": [],
   "source": [
    "# save metric arrays\n",
    "\n",
    "np.save('loss_10filters', loss_arr)\n",
    "np.save('acc_10filters', acc_arr)\n",
    "np.save('w_acc_10filters', w_acc_arr)\n",
    "np.save('f1_10filters', f1_arr)\n",
    "np.save('f2_10filters', f2_arr)\n",
    "np.save('f3_10filters', f3_arr)"
   ]
  },
  {
   "cell_type": "code",
   "execution_count": 232,
   "metadata": {},
   "outputs": [
    {
     "name": "stdout",
     "output_type": "stream",
     "text": [
      "[0.64893129 0.74552627 0.70419074 0.75135953 0.66656519 0.63674015\n",
      " 0.67288516 0.66564409 0.69114408 0.72867146 0.74206915 0.71965231\n",
      " 0.67634548 0.69481536 0.68782632 0.69693987 0.72566857 0.70515046\n",
      " 0.72324633 0.68052105 0.62724258 0.66170039 0.78399169 0.73552968\n",
      " 0.76300599 0.72008497 0.72799996 0.68091934]\n"
     ]
    },
    {
     "data": {
      "text/plain": [
       "<matplotlib.legend.Legend at 0x395940e90>"
      ]
     },
     "execution_count": 232,
     "metadata": {},
     "output_type": "execute_result"
    },
    {
     "data": {
      "image/png": "[encoded data removed]",
      "text/plain": [
       "<Figure size 640x480 with 1 Axes>"
      ]
     },
     "metadata": {},
     "output_type": "display_data"
    }
   ],
   "source": [
    "print(np.mean(f2_arr, axis=0))\n",
    "# plt.figure()\n",
    "# plt.loglog(conv_sizes_layer1 / us2timesteps, np.mean(f3_arr, axis=0))#, yerr=np.std(f2_arr, axis=0))\n",
    "plt.figure()\n",
    "plt.semilogx(conv_sizes_layer1 / us2timesteps, np.mean(acc_arr, axis=0), label='accuracy')\n",
    "plt.semilogx(conv_sizes_layer1 / us2timesteps, np.mean(w_acc_arr, axis=0), label='weighted accuracy')\n",
    "plt.semilogx(conv_sizes_layer1 / us2timesteps, np.mean(f1_arr, axis=0), label='f1 score')\n",
    "plt.semilogx(conv_sizes_layer1 / us2timesteps, np.mean(f2_arr, axis=0), label='f2 score')\n",
    "plt.semilogx(conv_sizes_layer1 / us2timesteps, np.mean(f3_arr, axis=0), label='f3 score')\n",
    "plt.plot(np.zeros(50)+5.38, np.linspace(0.6,0.88), linestyle='dashed', color='grey')\n",
    "plt.plot(np.zeros(50)+9.09, np.linspace(0.6,0.88), linestyle='dashed', color='grey')\n",
    "# plt.plot(np.logspace(-2, 1.3), np.zeros(50)+0.78, linestyle='dashed', color='grey')\n",
    "plt.xlabel('filter sizes (us)')\n",
    "plt.ylabel('Metric Score')\n",
    "plt.title('Initial layer - 10 filters')\n",
    "# plt.xscale='log'\n",
    "# plt.yscale='log'\n",
    "plt.legend()"
   ]
  },
  {
   "cell_type": "markdown",
   "metadata": {},
   "source": [
    "# Cross-val for 5.38us filter size and varying num filters"
   ]
  },
  {
   "cell_type": "code",
   "execution_count": 235,
   "metadata": {},
   "outputs": [
    {
     "name": "stdout",
     "output_type": "stream",
     "text": [
      "[ 2.  4.  6.  8. 10. 12. 14. 16. 18. 20.]\n",
      "Filter Size - 538\n"
     ]
    },
    {
     "name": "stderr",
     "output_type": "stream",
     "text": [
      "  0%|          | 0/10 [00:00<?, ?it/s]"
     ]
    },
    {
     "name": "stdout",
     "output_type": "stream",
     "text": [
      "Number of Filters - 2.0\n",
      "49/49 [==============================] - 1s 16ms/step - loss: 0.0144 - accuracy: 0.7913 - weighted_accuracy: 0.8692\n",
      "49/49 [==============================] - 0s 6ms/step\n",
      "49/49 [==============================] - 1s 14ms/step - loss: 0.0332 - accuracy: 0.5979 - weighted_accuracy: 0.7025\n",
      "49/49 [==============================] - 0s 5ms/step\n",
      "49/49 [==============================] - 1s 14ms/step - loss: 0.0145 - accuracy: 0.8117 - weighted_accuracy: 0.8499\n",
      "49/49 [==============================] - 0s 6ms/step\n",
      "49/49 [==============================] - 1s 13ms/step - loss: 0.0183 - accuracy: 0.7969 - weighted_accuracy: 0.8610\n",
      "49/49 [==============================] - 0s 5ms/step\n",
      "49/49 [==============================] - 1s 15ms/step - loss: 0.0193 - accuracy: 0.7648 - weighted_accuracy: 0.7758\n",
      "49/49 [==============================] - 0s 6ms/step\n"
     ]
    },
    {
     "name": "stderr",
     "output_type": "stream",
     "text": [
      " 10%|█         | 1/10 [02:14<20:12, 134.70s/it]"
     ]
    },
    {
     "name": "stdout",
     "output_type": "stream",
     "text": [
      "Number of Filters - 4.0\n",
      "49/49 [==============================] - 1s 25ms/step - loss: 0.0132 - accuracy: 0.8728 - weighted_accuracy: 0.8855\n",
      "49/49 [==============================] - 1s 7ms/step\n",
      "49/49 [==============================] - 1s 20ms/step - loss: 0.0186 - accuracy: 0.7592 - weighted_accuracy: 0.8312\n",
      "49/49 [==============================] - 1s 11ms/step\n",
      "49/49 [==============================] - 1s 16ms/step - loss: 0.0154 - accuracy: 0.6877 - weighted_accuracy: 0.8319\n",
      "49/49 [==============================] - 0s 5ms/step\n",
      "49/49 [==============================] - 1s 16ms/step - loss: 0.0202 - accuracy: 0.8560 - weighted_accuracy: 0.8706\n",
      "49/49 [==============================] - 0s 5ms/step\n",
      "49/49 [==============================] - 1s 15ms/step - loss: 0.0151 - accuracy: 0.7551 - weighted_accuracy: 0.8410\n",
      "49/49 [==============================] - 0s 8ms/step\n"
     ]
    },
    {
     "name": "stderr",
     "output_type": "stream",
     "text": [
      " 20%|██        | 2/10 [04:30<18:03, 135.46s/it]"
     ]
    },
    {
     "name": "stdout",
     "output_type": "stream",
     "text": [
      "Number of Filters - 6.0\n",
      "49/49 [==============================] - 1s 20ms/step - loss: 0.0117 - accuracy: 0.8279 - weighted_accuracy: 0.8915\n",
      "49/49 [==============================] - 1s 8ms/step\n",
      "49/49 [==============================] - 1s 21ms/step - loss: 0.0165 - accuracy: 0.8574 - weighted_accuracy: 0.8670\n",
      "49/49 [==============================] - 1s 8ms/step\n",
      "49/49 [==============================] - 1s 20ms/step - loss: 0.0165 - accuracy: 0.7783 - weighted_accuracy: 0.8074\n",
      "49/49 [==============================] - 1s 8ms/step\n",
      "49/49 [==============================] - 1s 20ms/step - loss: 0.0237 - accuracy: 0.7539 - weighted_accuracy: 0.8436\n",
      "49/49 [==============================] - 1s 12ms/step\n",
      "49/49 [==============================] - 1s 21ms/step - loss: 0.0168 - accuracy: 0.8380 - weighted_accuracy: 0.8335\n",
      "49/49 [==============================] - 1s 11ms/step\n"
     ]
    },
    {
     "name": "stderr",
     "output_type": "stream",
     "text": [
      " 30%|███       | 3/10 [06:34<15:12, 130.30s/it]"
     ]
    },
    {
     "name": "stdout",
     "output_type": "stream",
     "text": [
      "Number of Filters - 8.0\n",
      "49/49 [==============================] - 1s 17ms/step - loss: 0.0158 - accuracy: 0.7084 - weighted_accuracy: 0.8320\n",
      "49/49 [==============================] - 1s 8ms/step\n",
      "49/49 [==============================] - 1s 17ms/step - loss: 0.0180 - accuracy: 0.7848 - weighted_accuracy: 0.8512\n",
      "49/49 [==============================] - 1s 10ms/step\n",
      "49/49 [==============================] - 1s 19ms/step - loss: 0.0157 - accuracy: 0.7359 - weighted_accuracy: 0.8372\n",
      "49/49 [==============================] - 0s 6ms/step\n",
      "49/49 [==============================] - 1s 15ms/step - loss: 0.0184 - accuracy: 0.7686 - weighted_accuracy: 0.8458\n",
      "49/49 [==============================] - 0s 6ms/step\n",
      "49/49 [==============================] - 1s 16ms/step - loss: 0.0212 - accuracy: 0.6414 - weighted_accuracy: 0.7739\n",
      "49/49 [==============================] - 1s 7ms/step\n"
     ]
    },
    {
     "name": "stderr",
     "output_type": "stream",
     "text": [
      " 40%|████      | 4/10 [09:08<13:56, 139.34s/it]"
     ]
    },
    {
     "name": "stdout",
     "output_type": "stream",
     "text": [
      "Number of Filters - 10.0\n",
      "49/49 [==============================] - 1s 22ms/step - loss: 0.0155 - accuracy: 0.7174 - weighted_accuracy: 0.8418\n",
      "49/49 [==============================] - 1s 16ms/step\n",
      "49/49 [==============================] - 1s 29ms/step - loss: 0.0161 - accuracy: 0.7746 - weighted_accuracy: 0.8586\n",
      "49/49 [==============================] - 1s 13ms/step\n",
      "49/49 [==============================] - 1s 22ms/step - loss: 0.0106 - accuracy: 0.8290 - weighted_accuracy: 0.8905\n",
      "49/49 [==============================] - 1s 13ms/step\n",
      "49/49 [==============================] - 1s 21ms/step - loss: 0.0214 - accuracy: 0.7654 - weighted_accuracy: 0.8526\n",
      "49/49 [==============================] - 1s 13ms/step\n",
      "49/49 [==============================] - 1s 22ms/step - loss: 0.0146 - accuracy: 0.8136 - weighted_accuracy: 0.8635\n",
      "49/49 [==============================] - 1s 12ms/step\n"
     ]
    },
    {
     "name": "stderr",
     "output_type": "stream",
     "text": [
      " 50%|█████     | 5/10 [11:55<12:26, 149.33s/it]"
     ]
    },
    {
     "name": "stdout",
     "output_type": "stream",
     "text": [
      "Number of Filters - 12.0\n",
      "49/49 [==============================] - 1s 24ms/step - loss: 0.0112 - accuracy: 0.8292 - weighted_accuracy: 0.8923\n",
      "49/49 [==============================] - 1s 12ms/step\n",
      "49/49 [==============================] - 1s 23ms/step - loss: 0.0208 - accuracy: 0.7251 - weighted_accuracy: 0.8391\n",
      "49/49 [==============================] - 1s 14ms/step\n",
      "49/49 [==============================] - 1s 24ms/step - loss: 0.0134 - accuracy: 0.8188 - weighted_accuracy: 0.8471\n",
      "49/49 [==============================] - 1s 11ms/step\n",
      "49/49 [==============================] - 1s 22ms/step - loss: 0.0216 - accuracy: 0.8323 - weighted_accuracy: 0.8671\n",
      "49/49 [==============================] - 1s 11ms/step\n",
      "49/49 [==============================] - 1s 22ms/step - loss: 0.0165 - accuracy: 0.7699 - weighted_accuracy: 0.8592\n",
      "49/49 [==============================] - 1s 12ms/step\n"
     ]
    },
    {
     "name": "stderr",
     "output_type": "stream",
     "text": [
      " 60%|██████    | 6/10 [15:29<11:25, 171.35s/it]"
     ]
    },
    {
     "name": "stdout",
     "output_type": "stream",
     "text": [
      "Number of Filters - 14.0\n",
      "49/49 [==============================] - 1s 22ms/step - loss: 0.0127 - accuracy: 0.8516 - weighted_accuracy: 0.8976\n",
      "49/49 [==============================] - 1s 13ms/step\n",
      "49/49 [==============================] - 1s 21ms/step - loss: 0.0187 - accuracy: 0.8401 - weighted_accuracy: 0.8535\n",
      "49/49 [==============================] - 1s 18ms/step\n",
      "49/49 [==============================] - 1s 22ms/step - loss: 0.0126 - accuracy: 0.7982 - weighted_accuracy: 0.8784\n",
      "49/49 [==============================] - 1s 15ms/step\n",
      "49/49 [==============================] - 1s 23ms/step - loss: 0.0181 - accuracy: 0.8490 - weighted_accuracy: 0.8899\n",
      "49/49 [==============================] - 1s 19ms/step\n",
      "49/49 [==============================] - 1s 22ms/step - loss: 0.0165 - accuracy: 0.7153 - weighted_accuracy: 0.8268\n",
      "49/49 [==============================] - 1s 14ms/step\n"
     ]
    },
    {
     "name": "stderr",
     "output_type": "stream",
     "text": [
      " 70%|███████   | 7/10 [18:44<08:57, 179.25s/it]"
     ]
    },
    {
     "name": "stdout",
     "output_type": "stream",
     "text": [
      "Number of Filters - 16.0\n",
      "49/49 [==============================] - 1s 25ms/step - loss: 0.0134 - accuracy: 0.7636 - weighted_accuracy: 0.8635\n",
      "49/49 [==============================] - 1s 12ms/step\n",
      "49/49 [==============================] - 1s 20ms/step - loss: 0.0168 - accuracy: 0.7437 - weighted_accuracy: 0.8400\n",
      "49/49 [==============================] - 1s 13ms/step\n",
      "49/49 [==============================] - 1s 25ms/step - loss: 0.0148 - accuracy: 0.7243 - weighted_accuracy: 0.8389\n",
      "49/49 [==============================] - 1s 12ms/step\n",
      "49/49 [==============================] - 1s 22ms/step - loss: 0.0202 - accuracy: 0.8091 - weighted_accuracy: 0.8788\n",
      "49/49 [==============================] - 1s 13ms/step\n",
      "49/49 [==============================] - 1s 23ms/step - loss: 0.0153 - accuracy: 0.7924 - weighted_accuracy: 0.8669\n",
      "49/49 [==============================] - 1s 18ms/step\n"
     ]
    },
    {
     "name": "stderr",
     "output_type": "stream",
     "text": [
      " 80%|████████  | 8/10 [21:17<05:41, 170.74s/it]"
     ]
    },
    {
     "name": "stdout",
     "output_type": "stream",
     "text": [
      "Number of Filters - 18.0\n",
      "49/49 [==============================] - 1s 25ms/step - loss: 0.0123 - accuracy: 0.8574 - weighted_accuracy: 0.8878\n",
      "49/49 [==============================] - 1s 20ms/step\n",
      "49/49 [==============================] - 1s 25ms/step - loss: 0.0223 - accuracy: 0.7264 - weighted_accuracy: 0.8317\n",
      "49/49 [==============================] - 1s 21ms/step\n",
      "49/49 [==============================] - 1s 28ms/step - loss: 0.0128 - accuracy: 0.8027 - weighted_accuracy: 0.8596\n",
      "49/49 [==============================] - 1s 20ms/step\n",
      "49/49 [==============================] - 1s 26ms/step - loss: 0.0192 - accuracy: 0.8342 - weighted_accuracy: 0.8654\n",
      "49/49 [==============================] - 1s 18ms/step\n",
      "49/49 [==============================] - 1s 28ms/step - loss: 0.0153 - accuracy: 0.8091 - weighted_accuracy: 0.8439\n",
      "49/49 [==============================] - 1s 23ms/step\n"
     ]
    },
    {
     "name": "stderr",
     "output_type": "stream",
     "text": [
      " 90%|█████████ | 9/10 [25:33<03:17, 197.38s/it]"
     ]
    },
    {
     "name": "stdout",
     "output_type": "stream",
     "text": [
      "Number of Filters - 20.0\n",
      "49/49 [==============================] - 1s 26ms/step - loss: 0.0134 - accuracy: 0.7958 - weighted_accuracy: 0.8689\n",
      "49/49 [==============================] - 1s 22ms/step\n",
      "49/49 [==============================] - 1s 27ms/step - loss: 0.0159 - accuracy: 0.8324 - weighted_accuracy: 0.8363\n",
      "49/49 [==============================] - 1s 19ms/step\n",
      "49/49 [==============================] - 1s 27ms/step - loss: 0.0127 - accuracy: 0.7969 - weighted_accuracy: 0.8561\n",
      "49/49 [==============================] - 1s 18ms/step\n",
      "49/49 [==============================] - 1s 26ms/step - loss: 0.0194 - accuracy: 0.7294 - weighted_accuracy: 0.8308\n",
      "49/49 [==============================] - 1s 23ms/step\n",
      "49/49 [==============================] - 1s 26ms/step - loss: 0.0140 - accuracy: 0.8008 - weighted_accuracy: 0.8721\n",
      "49/49 [==============================] - 1s 16ms/step\n"
     ]
    },
    {
     "name": "stderr",
     "output_type": "stream",
     "text": [
      "100%|██████████| 10/10 [30:29<00:00, 182.93s/it]\n"
     ]
    }
   ],
   "source": [
    "filter_number = np.linspace(2, 20, 10)\n",
    "num_folds = 5\n",
    "\n",
    "print(filter_number)\n",
    "\n",
    "# conv_sizes_layer1 = np.around(np.logspace(-2, 1.3, 30) * us2timesteps)\n",
    "# print(conv_sizes_layer1)\n",
    "# conv_sizes_layer1 = np.delete(conv_sizes_layer1, [1, 3])\n",
    "# print()\n",
    "# print(conv_sizes_layer1)\n",
    "\n",
    "conv_sizes_fixed = 538\n",
    "\n",
    "loss_arr = np.zeros((num_folds, len(filter_number)))\n",
    "acc_arr = np.zeros((num_folds, len(filter_number)))\n",
    "w_acc_arr = np.zeros((num_folds, len(filter_number)))\n",
    "f1_arr = np.zeros((num_folds, len(filter_number)))\n",
    "f2_arr = np.zeros((num_folds, len(filter_number)))\n",
    "f3_arr = np.zeros((num_folds, len(filter_number)))\n",
    "\n",
    "kfolds = StratifiedKFold(n_splits=num_folds, shuffle=True, random_state=0)\n",
    "\n",
    "print('Filter Size - ' + str(conv_sizes_fixed))\n",
    "for j in tqdm(range(len(filter_number))):\n",
    "    print('Number of Filters - ' + str(filter_number[j]))\n",
    "    fold_no = 1\n",
    "\n",
    "    for train, test in kfolds.split(x_data, y_data):\n",
    "        # print(type(x_data[train]))\n",
    "        loss, acc, w_acc, f1, f2, f3 = one_layer_cnn_test(x_data[train], y_data[train], W_array[train], \n",
    "                                                          x_data[test], y_data[test], W_array[test], \n",
    "                                                          filter_size=int(conv_sizes_fixed), num_filters=int(filter_number[j]))\n",
    "\n",
    "        loss_arr[fold_no-1, j] = loss\n",
    "        acc_arr[fold_no-1, j] = acc\n",
    "        w_acc_arr[fold_no-1, j] = w_acc\n",
    "        f1_arr[fold_no-1, j] = f1\n",
    "        f2_arr[fold_no-1, j] = f2\n",
    "        f3_arr[fold_no-1, j] = f3\n",
    "\n",
    "        # Increase fold number\n",
    "        fold_no = fold_no + 1"
   ]
  },
  {
   "cell_type": "code",
   "execution_count": 1,
   "metadata": {},
   "outputs": [
    {
     "ename": "NameError",
     "evalue": "name 'np' is not defined",
     "output_type": "error",
     "traceback": [
      "\u001b[0;31m---------------------------------------------------------------------------\u001b[0m",
      "\u001b[0;31mNameError\u001b[0m                                 Traceback (most recent call last)",
      "Cell \u001b[0;32mIn[1], line 1\u001b[0m\n\u001b[0;32m----> 1\u001b[0m \u001b[38;5;28mprint\u001b[39m(np\u001b[38;5;241m.\u001b[39mmean(f2_arr, axis\u001b[38;5;241m=\u001b[39m\u001b[38;5;241m0\u001b[39m))\n\u001b[1;32m      2\u001b[0m \u001b[38;5;66;03m# plt.figure()\u001b[39;00m\n\u001b[1;32m      3\u001b[0m \u001b[38;5;66;03m# plt.loglog(conv_sizes_layer1 / us2timesteps, np.mean(f3_arr, axis=0))#, yerr=np.std(f2_arr, axis=0))\u001b[39;00m\n\u001b[1;32m      4\u001b[0m plt\u001b[38;5;241m.\u001b[39mfigure()\n",
      "\u001b[0;31mNameError\u001b[0m: name 'np' is not defined"
     ]
    }
   ],
   "source": [
    "print(np.mean(f2_arr, axis=0))\n",
    "# plt.figure()\n",
    "# plt.loglog(conv_sizes_layer1 / us2timesteps, np.mean(f3_arr, axis=0))#, yerr=np.std(f2_arr, axis=0))\n",
    "plt.figure()\n",
    "plt.plot(filter_number, np.mean(acc_arr, axis=0), label='accuracy')\n",
    "plt.plot(filter_number, np.mean(w_acc_arr, axis=0), label='weighted accuracy')\n",
    "plt.plot(filter_number, np.mean(f1_arr, axis=0), label='f1 score')\n",
    "plt.plot(filter_number, np.mean(f2_arr, axis=0), label='f2 score')\n",
    "plt.plot(filter_number, np.mean(f3_arr, axis=0), label='f3 score')\n",
    "plt.plot(np.zeros(50)+6, np.linspace(0.6,0.88), linestyle='dashed', color='grey')\n",
    "plt.plot(np.zeros(50)+14, np.linspace(0.6,0.88), linestyle='dashed', color='grey')\n",
    "# plt.plot(np.zeros(50)+9.09, np.linspace(0.6,0.88), linestyle='dashed', color='grey')\n",
    "# plt.plot(np.logspace(-2, 1.3), np.zeros(50)+0.78, linestyle='dashed', color='grey')\n",
    "plt.xlabel('Number of Filters')\n",
    "plt.ylabel('Metric Score')\n",
    "plt.title('Initial layer - 5.38us Filter Size')\n",
    "# plt.xscale='log'\n",
    "# plt.yscale='log'\n",
    "# plt.legend()"
   ]
  },
  {
   "cell_type": "code",
   "execution_count": null,
   "metadata": {},
   "outputs": [],
   "source": []
  }
 ],
 "metadata": {
  "kernelspec": {
   "display_name": "spyder-env",
   "language": "python",
   "name": "python3"
  },
  "language_info": {
   "codemirror_mode": {
    "name": "ipython",
    "version": 3
   },
   "file_extension": ".py",
   "mimetype": "text/x-python",
   "name": "python",
   "nbconvert_exporter": "python",
   "pygments_lexer": "ipython3",
   "version": "3.11.5"
  }
 },
 "nbformat": 4,
 "nbformat_minor": 2
}
